{
 "cells": [
  {
   "cell_type": "markdown",
   "id": "a9adeec1-d22e-4b2b-ba76-1f073b2963a6",
   "metadata": {},
   "source": [
    "# Setup"
   ]
  },
  {
   "cell_type": "code",
   "execution_count": 3,
   "id": "306fa931-d408-4ac4-9caa-95d330d459b0",
   "metadata": {
    "execution": {
     "iopub.execute_input": "2022-05-06T17:03:16.734596Z",
     "iopub.status.busy": "2022-05-06T17:03:16.734350Z",
     "iopub.status.idle": "2022-05-06T17:03:17.038997Z",
     "shell.execute_reply": "2022-05-06T17:03:17.035883Z",
     "shell.execute_reply.started": "2022-05-06T17:03:16.734569Z"
    }
   },
   "outputs": [
    {
     "data": {
      "application/vnd.jupyter.widget-view+json": {
       "model_id": "9ebd71ba9ba441ee95a798d44ace2752",
       "version_major": 2,
       "version_minor": 0
      },
      "text/plain": [
       "VBox()"
      ]
     },
     "metadata": {},
     "output_type": "display_data"
    },
    {
     "data": {
      "application/vnd.jupyter.widget-view+json": {
       "model_id": "",
       "version_major": 2,
       "version_minor": 0
      },
      "text/plain": [
       "FloatProgress(value=0.0, bar_style='info', description='Progress:', layout=Layout(height='25px', width='50%'),…"
      ]
     },
     "metadata": {},
     "output_type": "display_data"
    }
   ],
   "source": [
    "input_data = 's3://udacity-dend/'"
   ]
  },
  {
   "cell_type": "code",
   "execution_count": 10,
   "id": "9fcb8785-169b-45e8-a831-58c4cbd4a749",
   "metadata": {
    "execution": {
     "iopub.execute_input": "2022-05-06T17:12:44.408289Z",
     "iopub.status.busy": "2022-05-06T17:12:44.408033Z",
     "iopub.status.idle": "2022-05-06T17:12:44.746433Z",
     "shell.execute_reply": "2022-05-06T17:12:44.745594Z",
     "shell.execute_reply.started": "2022-05-06T17:12:44.408262Z"
    }
   },
   "outputs": [
    {
     "data": {
      "application/vnd.jupyter.widget-view+json": {
       "model_id": "be92880828af4993809e5d6a91d4766a",
       "version_major": 2,
       "version_minor": 0
      },
      "text/plain": [
       "VBox()"
      ]
     },
     "metadata": {},
     "output_type": "display_data"
    },
    {
     "data": {
      "application/vnd.jupyter.widget-view+json": {
       "model_id": "",
       "version_major": 2,
       "version_minor": 0
      },
      "text/plain": [
       "FloatProgress(value=0.0, bar_style='info', description='Progress:', layout=Layout(height='25px', width='50%'),…"
      ]
     },
     "metadata": {},
     "output_type": "display_data"
    }
   ],
   "source": [
    "output_data = 's3://udacity-demobucket-2/data_lake/'"
   ]
  },
  {
   "cell_type": "markdown",
   "id": "7382c093-9d9b-4474-b285-1b2b069d41da",
   "metadata": {},
   "source": [
    "# Process Song Data"
   ]
  },
  {
   "cell_type": "code",
   "execution_count": 4,
   "id": "8993616f-a7e2-4ede-9e7a-57ace666056c",
   "metadata": {
    "execution": {
     "iopub.execute_input": "2022-05-06T17:03:20.378010Z",
     "iopub.status.busy": "2022-05-06T17:03:20.377573Z",
     "iopub.status.idle": "2022-05-06T17:03:20.644633Z",
     "shell.execute_reply": "2022-05-06T17:03:20.643812Z",
     "shell.execute_reply.started": "2022-05-06T17:03:20.377943Z"
    },
    "tags": []
   },
   "outputs": [
    {
     "data": {
      "application/vnd.jupyter.widget-view+json": {
       "model_id": "f2a275f78b7845c1a13f6ebf3bdaf2ef",
       "version_major": 2,
       "version_minor": 0
      },
      "text/plain": [
       "VBox()"
      ]
     },
     "metadata": {},
     "output_type": "display_data"
    },
    {
     "data": {
      "application/vnd.jupyter.widget-view+json": {
       "model_id": "",
       "version_major": 2,
       "version_minor": 0
      },
      "text/plain": [
       "FloatProgress(value=0.0, bar_style='info', description='Progress:', layout=Layout(height='25px', width='50%'),…"
      ]
     },
     "metadata": {},
     "output_type": "display_data"
    }
   ],
   "source": [
    "song_data = input_data + 'song_data/*/*/*/*.json'"
   ]
  },
  {
   "cell_type": "code",
   "execution_count": 5,
   "id": "7a31b049-b9f0-4391-87a1-9ec1d8d8f393",
   "metadata": {
    "execution": {
     "iopub.execute_input": "2022-05-06T17:04:05.341800Z",
     "iopub.status.busy": "2022-05-06T17:04:05.341396Z",
     "iopub.status.idle": "2022-05-06T17:08:08.929199Z",
     "shell.execute_reply": "2022-05-06T17:08:08.927824Z",
     "shell.execute_reply.started": "2022-05-06T17:04:05.341765Z"
    }
   },
   "outputs": [
    {
     "data": {
      "application/vnd.jupyter.widget-view+json": {
       "model_id": "5b1147d313c244cb805e634942be6199",
       "version_major": 2,
       "version_minor": 0
      },
      "text/plain": [
       "VBox()"
      ]
     },
     "metadata": {},
     "output_type": "display_data"
    },
    {
     "data": {
      "application/vnd.jupyter.widget-view+json": {
       "model_id": "",
       "version_major": 2,
       "version_minor": 0
      },
      "text/plain": [
       "FloatProgress(value=0.0, bar_style='info', description='Progress:', layout=Layout(height='25px', width='50%'),…"
      ]
     },
     "metadata": {},
     "output_type": "display_data"
    }
   ],
   "source": [
    "df = spark.read.json(song_data)"
   ]
  },
  {
   "cell_type": "code",
   "execution_count": 6,
   "id": "8b9edc46-85ba-4807-916e-d5a4901cf5bd",
   "metadata": {
    "execution": {
     "iopub.execute_input": "2022-05-06T17:09:32.343704Z",
     "iopub.status.busy": "2022-05-06T17:09:32.343090Z",
     "iopub.status.idle": "2022-05-06T17:09:42.231208Z",
     "shell.execute_reply": "2022-05-06T17:09:42.230416Z",
     "shell.execute_reply.started": "2022-05-06T17:09:32.343430Z"
    }
   },
   "outputs": [
    {
     "data": {
      "application/vnd.jupyter.widget-view+json": {
       "model_id": "6f2e2d2cf5fd4020b48e3aea683ad0ab",
       "version_major": 2,
       "version_minor": 0
      },
      "text/plain": [
       "VBox()"
      ]
     },
     "metadata": {},
     "output_type": "display_data"
    },
    {
     "data": {
      "application/vnd.jupyter.widget-view+json": {
       "model_id": "",
       "version_major": 2,
       "version_minor": 0
      },
      "text/plain": [
       "FloatProgress(value=0.0, bar_style='info', description='Progress:', layout=Layout(height='25px', width='50%'),…"
      ]
     },
     "metadata": {},
     "output_type": "display_data"
    },
    {
     "name": "stdout",
     "output_type": "stream",
     "text": [
      "[Row(artist_id='AR4T2IF1187B9ADBB7', artist_latitude=63.96027, artist_location='<a href=\"http://billyidol.net\" onmousedown=\\'UntrustedLink.bootstrap($(this), \"fc44f8f60d13ab68c56b3c6709c6d670\", event)\\' target=\"_blank\" rel=\"nofollow\">http://billyidol.net</a>', artist_longitude=10.22442, artist_name='Billy Idol', duration=233.22077, num_songs=1, song_id='SOVIYJY12AF72A4B00', title='The Dead Next Door (Digitally Remastered 99)', year=1983)]"
     ]
    }
   ],
   "source": [
    "df.head(1)"
   ]
  },
  {
   "cell_type": "code",
   "execution_count": 7,
   "id": "b97998cd-fc99-42be-9985-a3d1e74dbf53",
   "metadata": {
    "execution": {
     "iopub.execute_input": "2022-05-06T17:10:00.554834Z",
     "iopub.status.busy": "2022-05-06T17:10:00.554577Z",
     "iopub.status.idle": "2022-05-06T17:11:47.740839Z",
     "shell.execute_reply": "2022-05-06T17:11:47.738550Z",
     "shell.execute_reply.started": "2022-05-06T17:10:00.554804Z"
    }
   },
   "outputs": [
    {
     "data": {
      "application/vnd.jupyter.widget-view+json": {
       "model_id": "98fc8b49998d47cd8c283f11ebd61413",
       "version_major": 2,
       "version_minor": 0
      },
      "text/plain": [
       "VBox()"
      ]
     },
     "metadata": {},
     "output_type": "display_data"
    },
    {
     "data": {
      "application/vnd.jupyter.widget-view+json": {
       "model_id": "",
       "version_major": 2,
       "version_minor": 0
      },
      "text/plain": [
       "FloatProgress(value=0.0, bar_style='info', description='Progress:', layout=Layout(height='25px', width='50%'),…"
      ]
     },
     "metadata": {},
     "output_type": "display_data"
    },
    {
     "name": "stdout",
     "output_type": "stream",
     "text": [
      "14896"
     ]
    }
   ],
   "source": [
    "df.count()"
   ]
  },
  {
   "cell_type": "code",
   "execution_count": 8,
   "id": "5e5eecd8-7a9f-49be-9870-a37f0ad0f215",
   "metadata": {
    "execution": {
     "iopub.execute_input": "2022-05-06T17:12:20.387087Z",
     "iopub.status.busy": "2022-05-06T17:12:20.386599Z",
     "iopub.status.idle": "2022-05-06T17:12:20.740646Z",
     "shell.execute_reply": "2022-05-06T17:12:20.737800Z",
     "shell.execute_reply.started": "2022-05-06T17:12:20.387051Z"
    }
   },
   "outputs": [
    {
     "data": {
      "application/vnd.jupyter.widget-view+json": {
       "model_id": "f6620a75370d4eaebe905d75de16c431",
       "version_major": 2,
       "version_minor": 0
      },
      "text/plain": [
       "VBox()"
      ]
     },
     "metadata": {},
     "output_type": "display_data"
    },
    {
     "data": {
      "application/vnd.jupyter.widget-view+json": {
       "model_id": "",
       "version_major": 2,
       "version_minor": 0
      },
      "text/plain": [
       "FloatProgress(value=0.0, bar_style='info', description='Progress:', layout=Layout(height='25px', width='50%'),…"
      ]
     },
     "metadata": {},
     "output_type": "display_data"
    }
   ],
   "source": [
    "song_table = df.select('song_id', 'title', 'artist_id', 'year', 'duration')"
   ]
  },
  {
   "cell_type": "code",
   "execution_count": 12,
   "id": "69cb8949-7658-44cf-b9e2-0721623cb98d",
   "metadata": {
    "execution": {
     "iopub.execute_input": "2022-05-06T17:16:23.397291Z",
     "iopub.status.busy": "2022-05-06T17:16:23.396987Z",
     "iopub.status.idle": "2022-05-06T17:18:53.048752Z",
     "shell.execute_reply": "2022-05-06T17:18:53.047931Z",
     "shell.execute_reply.started": "2022-05-06T17:16:23.397261Z"
    },
    "tags": []
   },
   "outputs": [
    {
     "data": {
      "application/vnd.jupyter.widget-view+json": {
       "model_id": "96eb071022de484584e5e444a761033f",
       "version_major": 2,
       "version_minor": 0
      },
      "text/plain": [
       "VBox()"
      ]
     },
     "metadata": {},
     "output_type": "display_data"
    },
    {
     "data": {
      "application/vnd.jupyter.widget-view+json": {
       "model_id": "",
       "version_major": 2,
       "version_minor": 0
      },
      "text/plain": [
       "FloatProgress(value=0.0, bar_style='info', description='Progress:', layout=Layout(height='25px', width='50%'),…"
      ]
     },
     "metadata": {},
     "output_type": "display_data"
    }
   ],
   "source": [
    "song_table.write.parquet(output_data + 'song_table')"
   ]
  },
  {
   "cell_type": "code",
   "execution_count": 13,
   "id": "8b3fdce4-be35-4912-b1d2-2c97954eb16b",
   "metadata": {
    "execution": {
     "iopub.execute_input": "2022-05-06T17:20:48.524822Z",
     "iopub.status.busy": "2022-05-06T17:20:48.524548Z",
     "iopub.status.idle": "2022-05-06T17:20:48.809873Z",
     "shell.execute_reply": "2022-05-06T17:20:48.808939Z",
     "shell.execute_reply.started": "2022-05-06T17:20:48.524794Z"
    }
   },
   "outputs": [
    {
     "data": {
      "application/vnd.jupyter.widget-view+json": {
       "model_id": "088b8e395fd841a4958a49845a94a97a",
       "version_major": 2,
       "version_minor": 0
      },
      "text/plain": [
       "VBox()"
      ]
     },
     "metadata": {},
     "output_type": "display_data"
    },
    {
     "data": {
      "application/vnd.jupyter.widget-view+json": {
       "model_id": "",
       "version_major": 2,
       "version_minor": 0
      },
      "text/plain": [
       "FloatProgress(value=0.0, bar_style='info', description='Progress:', layout=Layout(height='25px', width='50%'),…"
      ]
     },
     "metadata": {},
     "output_type": "display_data"
    }
   ],
   "source": [
    "artists_table = df.select('artist_id', 'artist_name', 'artist_location', 'artist_latitude', 'artist_longitude')"
   ]
  },
  {
   "cell_type": "code",
   "execution_count": 14,
   "id": "68e4340d-18e8-40bd-81e0-4f7f62908653",
   "metadata": {
    "execution": {
     "iopub.execute_input": "2022-05-06T17:21:33.616092Z",
     "iopub.status.busy": "2022-05-06T17:21:33.615827Z",
     "iopub.status.idle": "2022-05-06T17:23:30.686034Z",
     "shell.execute_reply": "2022-05-06T17:23:30.684533Z",
     "shell.execute_reply.started": "2022-05-06T17:21:33.616063Z"
    }
   },
   "outputs": [
    {
     "data": {
      "application/vnd.jupyter.widget-view+json": {
       "model_id": "99f9d44bb07345e38a5edd9edd4aa778",
       "version_major": 2,
       "version_minor": 0
      },
      "text/plain": [
       "VBox()"
      ]
     },
     "metadata": {},
     "output_type": "display_data"
    },
    {
     "data": {
      "application/vnd.jupyter.widget-view+json": {
       "model_id": "",
       "version_major": 2,
       "version_minor": 0
      },
      "text/plain": [
       "FloatProgress(value=0.0, bar_style='info', description='Progress:', layout=Layout(height='25px', width='50%'),…"
      ]
     },
     "metadata": {},
     "output_type": "display_data"
    }
   ],
   "source": [
    "artists_table.write.parquet(output_data + 'artist_table')"
   ]
  },
  {
   "cell_type": "markdown",
   "id": "bd1f0a87-9e01-43d8-9a0a-8a891da65ec6",
   "metadata": {},
   "source": [
    "# Process Log Data"
   ]
  },
  {
   "cell_type": "code",
   "execution_count": 15,
   "id": "156a3746-0a46-4e57-a6f3-12fc3327e50e",
   "metadata": {
    "execution": {
     "iopub.execute_input": "2022-05-06T17:29:09.195332Z",
     "iopub.status.busy": "2022-05-06T17:29:09.194983Z",
     "iopub.status.idle": "2022-05-06T17:29:09.514085Z",
     "shell.execute_reply": "2022-05-06T17:29:09.511074Z",
     "shell.execute_reply.started": "2022-05-06T17:29:09.195296Z"
    }
   },
   "outputs": [
    {
     "data": {
      "application/vnd.jupyter.widget-view+json": {
       "model_id": "bd167fb0663a4a4a8270dbf3196afecc",
       "version_major": 2,
       "version_minor": 0
      },
      "text/plain": [
       "VBox()"
      ]
     },
     "metadata": {},
     "output_type": "display_data"
    },
    {
     "data": {
      "application/vnd.jupyter.widget-view+json": {
       "model_id": "",
       "version_major": 2,
       "version_minor": 0
      },
      "text/plain": [
       "FloatProgress(value=0.0, bar_style='info', description='Progress:', layout=Layout(height='25px', width='50%'),…"
      ]
     },
     "metadata": {},
     "output_type": "display_data"
    }
   ],
   "source": [
    "log_data = input_data + 'log_data/*/*/*.json'"
   ]
  },
  {
   "cell_type": "code",
   "execution_count": 16,
   "id": "0797ec1b-ad8c-4630-9f5d-430af3ffd39e",
   "metadata": {
    "execution": {
     "iopub.execute_input": "2022-05-06T17:29:35.490436Z",
     "iopub.status.busy": "2022-05-06T17:29:35.490180Z",
     "iopub.status.idle": "2022-05-06T17:29:47.238649Z",
     "shell.execute_reply": "2022-05-06T17:29:47.237526Z",
     "shell.execute_reply.started": "2022-05-06T17:29:35.490408Z"
    }
   },
   "outputs": [
    {
     "data": {
      "application/vnd.jupyter.widget-view+json": {
       "model_id": "262584caf38447e295075fa297344b5b",
       "version_major": 2,
       "version_minor": 0
      },
      "text/plain": [
       "VBox()"
      ]
     },
     "metadata": {},
     "output_type": "display_data"
    },
    {
     "data": {
      "application/vnd.jupyter.widget-view+json": {
       "model_id": "",
       "version_major": 2,
       "version_minor": 0
      },
      "text/plain": [
       "FloatProgress(value=0.0, bar_style='info', description='Progress:', layout=Layout(height='25px', width='50%'),…"
      ]
     },
     "metadata": {},
     "output_type": "display_data"
    }
   ],
   "source": [
    "df = spark.read.json(log_data)"
   ]
  },
  {
   "cell_type": "code",
   "execution_count": 17,
   "id": "90e34b16-cfff-428d-ac38-2206da6f262f",
   "metadata": {
    "execution": {
     "iopub.execute_input": "2022-05-06T17:31:41.563382Z",
     "iopub.status.busy": "2022-05-06T17:31:41.563141Z",
     "iopub.status.idle": "2022-05-06T17:31:41.819397Z",
     "shell.execute_reply": "2022-05-06T17:31:41.818497Z",
     "shell.execute_reply.started": "2022-05-06T17:31:41.563354Z"
    }
   },
   "outputs": [
    {
     "data": {
      "application/vnd.jupyter.widget-view+json": {
       "model_id": "0f3d24e5a1f94c15ba31c5d82fb52cd5",
       "version_major": 2,
       "version_minor": 0
      },
      "text/plain": [
       "VBox()"
      ]
     },
     "metadata": {},
     "output_type": "display_data"
    },
    {
     "data": {
      "application/vnd.jupyter.widget-view+json": {
       "model_id": "",
       "version_major": 2,
       "version_minor": 0
      },
      "text/plain": [
       "FloatProgress(value=0.0, bar_style='info', description='Progress:', layout=Layout(height='25px', width='50%'),…"
      ]
     },
     "metadata": {},
     "output_type": "display_data"
    }
   ],
   "source": [
    "df = df.filter(df['page']=='NextSong')"
   ]
  },
  {
   "cell_type": "code",
   "execution_count": null,
   "id": "21280655-23d5-45a1-9878-a7852899aedb",
   "metadata": {},
   "outputs": [],
   "source": [
    "users_table = df.select('userId', 'firstName', 'lastName', 'gender', 'level')"
   ]
  },
  {
   "cell_type": "code",
   "execution_count": null,
   "id": "3af3e484-1ccc-41a1-add2-954a1f376210",
   "metadata": {},
   "outputs": [],
   "source": [
    "users_table.write.parquet(output_data + 'users_table')"
   ]
  },
  {
   "cell_type": "code",
   "execution_count": 83,
   "id": "3dd19f21-dd00-4ca1-acfa-323e4f9bc0f0",
   "metadata": {
    "execution": {
     "iopub.execute_input": "2022-05-06T18:44:06.923503Z",
     "iopub.status.busy": "2022-05-06T18:44:06.922966Z",
     "iopub.status.idle": "2022-05-06T18:44:07.221284Z",
     "shell.execute_reply": "2022-05-06T18:44:07.220439Z",
     "shell.execute_reply.started": "2022-05-06T18:44:06.923464Z"
    },
    "tags": []
   },
   "outputs": [
    {
     "data": {
      "application/vnd.jupyter.widget-view+json": {
       "model_id": "7c4f1b34436547faac2ae74ee7155445",
       "version_major": 2,
       "version_minor": 0
      },
      "text/plain": [
       "VBox()"
      ]
     },
     "metadata": {},
     "output_type": "display_data"
    },
    {
     "data": {
      "application/vnd.jupyter.widget-view+json": {
       "model_id": "",
       "version_major": 2,
       "version_minor": 0
      },
      "text/plain": [
       "FloatProgress(value=0.0, bar_style='info', description='Progress:', layout=Layout(height='25px', width='50%'),…"
      ]
     },
     "metadata": {},
     "output_type": "display_data"
    }
   ],
   "source": [
    "from pyspark.sql.functions import udf, col, monotonically_increasing_id\n",
    "import datetime\n",
    "import pyspark.sql.types as T\n",
    "from pyspark.sql.functions import hour, dayofmonth, weekofyear, month, year, dayofweek "
   ]
  },
  {
   "cell_type": "code",
   "execution_count": 54,
   "id": "7674dac3-7781-45a0-b723-adb149e0c036",
   "metadata": {
    "execution": {
     "iopub.execute_input": "2022-05-06T18:16:29.570970Z",
     "iopub.status.busy": "2022-05-06T18:16:29.570709Z",
     "iopub.status.idle": "2022-05-06T18:16:29.831348Z",
     "shell.execute_reply": "2022-05-06T18:16:29.830187Z",
     "shell.execute_reply.started": "2022-05-06T18:16:29.570942Z"
    },
    "tags": []
   },
   "outputs": [
    {
     "data": {
      "application/vnd.jupyter.widget-view+json": {
       "model_id": "5668c878f9bd4c2cb7fb6380abbd49ac",
       "version_major": 2,
       "version_minor": 0
      },
      "text/plain": [
       "VBox()"
      ]
     },
     "metadata": {},
     "output_type": "display_data"
    },
    {
     "data": {
      "application/vnd.jupyter.widget-view+json": {
       "model_id": "",
       "version_major": 2,
       "version_minor": 0
      },
      "text/plain": [
       "FloatProgress(value=0.0, bar_style='info', description='Progress:', layout=Layout(height='25px', width='50%'),…"
      ]
     },
     "metadata": {},
     "output_type": "display_data"
    }
   ],
   "source": [
    "get_timestamp = udf(lambda x: datetime.datetime.fromtimestamp(x/1000.0).timestamp())"
   ]
  },
  {
   "cell_type": "code",
   "execution_count": 55,
   "id": "5de3f417-8de2-4215-a6c5-729e5e9ab9e3",
   "metadata": {
    "execution": {
     "iopub.execute_input": "2022-05-06T18:16:33.033811Z",
     "iopub.status.busy": "2022-05-06T18:16:33.033531Z",
     "iopub.status.idle": "2022-05-06T18:16:33.307694Z",
     "shell.execute_reply": "2022-05-06T18:16:33.306943Z",
     "shell.execute_reply.started": "2022-05-06T18:16:33.033780Z"
    },
    "tags": []
   },
   "outputs": [
    {
     "data": {
      "application/vnd.jupyter.widget-view+json": {
       "model_id": "9f5fe27337494ca39940ace01bde68aa",
       "version_major": 2,
       "version_minor": 0
      },
      "text/plain": [
       "VBox()"
      ]
     },
     "metadata": {},
     "output_type": "display_data"
    },
    {
     "data": {
      "application/vnd.jupyter.widget-view+json": {
       "model_id": "",
       "version_major": 2,
       "version_minor": 0
      },
      "text/plain": [
       "FloatProgress(value=0.0, bar_style='info', description='Progress:', layout=Layout(height='25px', width='50%'),…"
      ]
     },
     "metadata": {},
     "output_type": "display_data"
    }
   ],
   "source": [
    "df = df.withColumn(\"timestamp\", get_timestamp(df.ts))"
   ]
  },
  {
   "cell_type": "code",
   "execution_count": 56,
   "id": "18cdec8f-421f-4e6c-9958-2ef943a6267e",
   "metadata": {
    "execution": {
     "iopub.execute_input": "2022-05-06T18:16:33.309569Z",
     "iopub.status.busy": "2022-05-06T18:16:33.309238Z",
     "iopub.status.idle": "2022-05-06T18:16:33.619030Z",
     "shell.execute_reply": "2022-05-06T18:16:33.617604Z",
     "shell.execute_reply.started": "2022-05-06T18:16:33.309532Z"
    },
    "tags": []
   },
   "outputs": [
    {
     "data": {
      "application/vnd.jupyter.widget-view+json": {
       "model_id": "e113e04b993a43e2b6ec9b6760990d41",
       "version_major": 2,
       "version_minor": 0
      },
      "text/plain": [
       "VBox()"
      ]
     },
     "metadata": {},
     "output_type": "display_data"
    },
    {
     "data": {
      "application/vnd.jupyter.widget-view+json": {
       "model_id": "",
       "version_major": 2,
       "version_minor": 0
      },
      "text/plain": [
       "FloatProgress(value=0.0, bar_style='info', description='Progress:', layout=Layout(height='25px', width='50%'),…"
      ]
     },
     "metadata": {},
     "output_type": "display_data"
    }
   ],
   "source": [
    "get_datetime = udf(lambda x: datetime.datetime.fromtimestamp(x / 1000.0), T.TimestampType())"
   ]
  },
  {
   "cell_type": "code",
   "execution_count": 57,
   "id": "55fd1ad4-37c8-4fc7-bf7f-e1100de7dd65",
   "metadata": {
    "execution": {
     "iopub.execute_input": "2022-05-06T18:16:33.621273Z",
     "iopub.status.busy": "2022-05-06T18:16:33.620908Z",
     "iopub.status.idle": "2022-05-06T18:16:33.932383Z",
     "shell.execute_reply": "2022-05-06T18:16:33.931602Z",
     "shell.execute_reply.started": "2022-05-06T18:16:33.621184Z"
    },
    "tags": []
   },
   "outputs": [
    {
     "data": {
      "application/vnd.jupyter.widget-view+json": {
       "model_id": "eb03f322afcf4678b9886bac7d944996",
       "version_major": 2,
       "version_minor": 0
      },
      "text/plain": [
       "VBox()"
      ]
     },
     "metadata": {},
     "output_type": "display_data"
    },
    {
     "data": {
      "application/vnd.jupyter.widget-view+json": {
       "model_id": "",
       "version_major": 2,
       "version_minor": 0
      },
      "text/plain": [
       "FloatProgress(value=0.0, bar_style='info', description='Progress:', layout=Layout(height='25px', width='50%'),…"
      ]
     },
     "metadata": {},
     "output_type": "display_data"
    }
   ],
   "source": [
    "df = df.withColumn(\"datetime\", get_datetime(df.ts))"
   ]
  },
  {
   "cell_type": "code",
   "execution_count": 58,
   "id": "d10a40c1-2205-4765-afe5-6a7e32785548",
   "metadata": {
    "execution": {
     "iopub.execute_input": "2022-05-06T18:16:33.935857Z",
     "iopub.status.busy": "2022-05-06T18:16:33.935233Z",
     "iopub.status.idle": "2022-05-06T18:16:34.985302Z",
     "shell.execute_reply": "2022-05-06T18:16:34.984608Z",
     "shell.execute_reply.started": "2022-05-06T18:16:33.935815Z"
    },
    "tags": []
   },
   "outputs": [
    {
     "data": {
      "application/vnd.jupyter.widget-view+json": {
       "model_id": "f54c7e65cf884ec7b39cfcd76104faf2",
       "version_major": 2,
       "version_minor": 0
      },
      "text/plain": [
       "VBox()"
      ]
     },
     "metadata": {},
     "output_type": "display_data"
    },
    {
     "data": {
      "application/vnd.jupyter.widget-view+json": {
       "model_id": "",
       "version_major": 2,
       "version_minor": 0
      },
      "text/plain": [
       "FloatProgress(value=0.0, bar_style='info', description='Progress:', layout=Layout(height='25px', width='50%'),…"
      ]
     },
     "metadata": {},
     "output_type": "display_data"
    },
    {
     "name": "stdout",
     "output_type": "stream",
     "text": [
      "[Row(artist='Harmonia', auth='Logged In', firstName='Ryan', gender='M', itemInSession=0, lastName='Smith', length=655.77751, level='free', location='San Jose-Sunnyvale-Santa Clara, CA', method='PUT', page='NextSong', registration=1541016707796.0, sessionId=583, song='Sehr kosmisch', status=200, ts=1542241826796, userAgent='\"Mozilla/5.0 (X11; Linux x86_64) AppleWebKit/537.36 (KHTML, like Gecko) Ubuntu Chromium/36.0.1985.125 Chrome/36.0.1985.125 Safari/537.36\"', userId='26', timestamp='1.542241826796E9', datetime=datetime.datetime(2018, 11, 15, 0, 30, 26, 796000))]"
     ]
    }
   ],
   "source": [
    "df.head(1)"
   ]
  },
  {
   "cell_type": "code",
   "execution_count": 69,
   "id": "dd037e8c-1fc9-43a5-82d2-730ff6c738be",
   "metadata": {
    "execution": {
     "iopub.execute_input": "2022-05-06T18:23:12.168252Z",
     "iopub.status.busy": "2022-05-06T18:23:12.167979Z",
     "iopub.status.idle": "2022-05-06T18:23:12.529616Z",
     "shell.execute_reply": "2022-05-06T18:23:12.528619Z",
     "shell.execute_reply.started": "2022-05-06T18:23:12.168212Z"
    },
    "tags": []
   },
   "outputs": [
    {
     "data": {
      "application/vnd.jupyter.widget-view+json": {
       "model_id": "a6f7c0ce22df4ee381b0f2b9b825302c",
       "version_major": 2,
       "version_minor": 0
      },
      "text/plain": [
       "VBox()"
      ]
     },
     "metadata": {},
     "output_type": "display_data"
    },
    {
     "data": {
      "application/vnd.jupyter.widget-view+json": {
       "model_id": "",
       "version_major": 2,
       "version_minor": 0
      },
      "text/plain": [
       "FloatProgress(value=0.0, bar_style='info', description='Progress:', layout=Layout(height='25px', width='50%'),…"
      ]
     },
     "metadata": {},
     "output_type": "display_data"
    }
   ],
   "source": [
    "time_table = df.select(df.ts.alias('start_time'),\n",
    "                       hour('datetime').alias('hour'), \n",
    "                       dayofmonth('datetime').alias('day'),\n",
    "                       weekofyear('datetime').alias('week'),\n",
    "                       month('datetime').alias('month'),\n",
    "                       year('datetime').alias('year'),\n",
    "                       dayofweek('datetime').alias('weekday')\n",
    "                       )\n",
    "             "
   ]
  },
  {
   "cell_type": "code",
   "execution_count": 71,
   "id": "09c81182-71a8-433c-9164-0b685357c6b1",
   "metadata": {
    "execution": {
     "iopub.execute_input": "2022-05-06T18:24:02.219757Z",
     "iopub.status.busy": "2022-05-06T18:24:02.219452Z",
     "iopub.status.idle": "2022-05-06T18:24:05.309204Z",
     "shell.execute_reply": "2022-05-06T18:24:05.308085Z",
     "shell.execute_reply.started": "2022-05-06T18:24:02.219724Z"
    },
    "tags": []
   },
   "outputs": [
    {
     "data": {
      "application/vnd.jupyter.widget-view+json": {
       "model_id": "67cd401ff2954044b46656dc23cedeb8",
       "version_major": 2,
       "version_minor": 0
      },
      "text/plain": [
       "VBox()"
      ]
     },
     "metadata": {},
     "output_type": "display_data"
    },
    {
     "data": {
      "application/vnd.jupyter.widget-view+json": {
       "model_id": "",
       "version_major": 2,
       "version_minor": 0
      },
      "text/plain": [
       "FloatProgress(value=0.0, bar_style='info', description='Progress:', layout=Layout(height='25px', width='50%'),…"
      ]
     },
     "metadata": {},
     "output_type": "display_data"
    }
   ],
   "source": [
    "time_table.write.parquet(output_data + 'time_table')"
   ]
  },
  {
   "cell_type": "code",
   "execution_count": 77,
   "id": "7c78db3f-0750-4063-8173-f1c184e0520c",
   "metadata": {
    "execution": {
     "iopub.execute_input": "2022-05-06T18:33:23.750650Z",
     "iopub.status.busy": "2022-05-06T18:33:23.750292Z",
     "iopub.status.idle": "2022-05-06T18:37:18.654930Z",
     "shell.execute_reply": "2022-05-06T18:37:18.654120Z",
     "shell.execute_reply.started": "2022-05-06T18:33:23.750619Z"
    },
    "tags": []
   },
   "outputs": [
    {
     "data": {
      "application/vnd.jupyter.widget-view+json": {
       "model_id": "647ccff5af294f899c5ca8db0032ffbb",
       "version_major": 2,
       "version_minor": 0
      },
      "text/plain": [
       "VBox()"
      ]
     },
     "metadata": {},
     "output_type": "display_data"
    },
    {
     "data": {
      "application/vnd.jupyter.widget-view+json": {
       "model_id": "",
       "version_major": 2,
       "version_minor": 0
      },
      "text/plain": [
       "FloatProgress(value=0.0, bar_style='info', description='Progress:', layout=Layout(height='25px', width='50%'),…"
      ]
     },
     "metadata": {},
     "output_type": "display_data"
    }
   ],
   "source": [
    "#song_df = spark.read.parquet(output_data + 'song_table/*.parquet')\n",
    "song_df = spark.read.json(input_data + 'song_data/*/*/*/*.json')"
   ]
  },
  {
   "cell_type": "code",
   "execution_count": 78,
   "id": "dbf11306-cc51-4c78-805e-965fcbc58cf7",
   "metadata": {
    "execution": {
     "iopub.execute_input": "2022-05-06T18:37:18.656870Z",
     "iopub.status.busy": "2022-05-06T18:37:18.656609Z",
     "iopub.status.idle": "2022-05-06T18:37:19.687411Z",
     "shell.execute_reply": "2022-05-06T18:37:19.686617Z",
     "shell.execute_reply.started": "2022-05-06T18:37:18.656832Z"
    },
    "tags": []
   },
   "outputs": [
    {
     "data": {
      "application/vnd.jupyter.widget-view+json": {
       "model_id": "dd2c75c857d4464e9457aa64ef25748d",
       "version_major": 2,
       "version_minor": 0
      },
      "text/plain": [
       "VBox()"
      ]
     },
     "metadata": {},
     "output_type": "display_data"
    },
    {
     "data": {
      "application/vnd.jupyter.widget-view+json": {
       "model_id": "",
       "version_major": 2,
       "version_minor": 0
      },
      "text/plain": [
       "FloatProgress(value=0.0, bar_style='info', description='Progress:', layout=Layout(height='25px', width='50%'),…"
      ]
     },
     "metadata": {},
     "output_type": "display_data"
    },
    {
     "name": "stdout",
     "output_type": "stream",
     "text": [
      "[Row(artist_id='AR4T2IF1187B9ADBB7', artist_latitude=63.96027, artist_location='<a href=\"http://billyidol.net\" onmousedown=\\'UntrustedLink.bootstrap($(this), \"fc44f8f60d13ab68c56b3c6709c6d670\", event)\\' target=\"_blank\" rel=\"nofollow\">http://billyidol.net</a>', artist_longitude=10.22442, artist_name='Billy Idol', duration=233.22077, num_songs=1, song_id='SOVIYJY12AF72A4B00', title='The Dead Next Door (Digitally Remastered 99)', year=1983)]"
     ]
    }
   ],
   "source": [
    "song_df.head(1)"
   ]
  },
  {
   "cell_type": "code",
   "execution_count": 79,
   "id": "aa479751-8ed1-45d8-ac76-66c6dc4c9407",
   "metadata": {
    "execution": {
     "iopub.execute_input": "2022-05-06T18:37:19.689237Z",
     "iopub.status.busy": "2022-05-06T18:37:19.688975Z",
     "iopub.status.idle": "2022-05-06T18:37:19.932323Z",
     "shell.execute_reply": "2022-05-06T18:37:19.931619Z",
     "shell.execute_reply.started": "2022-05-06T18:37:19.689202Z"
    }
   },
   "outputs": [
    {
     "data": {
      "application/vnd.jupyter.widget-view+json": {
       "model_id": "59c84b2367bf4f028aaa3a475c79d912",
       "version_major": 2,
       "version_minor": 0
      },
      "text/plain": [
       "VBox()"
      ]
     },
     "metadata": {},
     "output_type": "display_data"
    },
    {
     "data": {
      "application/vnd.jupyter.widget-view+json": {
       "model_id": "",
       "version_major": 2,
       "version_minor": 0
      },
      "text/plain": [
       "FloatProgress(value=0.0, bar_style='info', description='Progress:', layout=Layout(height='25px', width='50%'),…"
      ]
     },
     "metadata": {},
     "output_type": "display_data"
    },
    {
     "name": "stdout",
     "output_type": "stream",
     "text": [
      "['artist_id', 'artist_latitude', 'artist_location', 'artist_longitude', 'artist_name', 'duration', 'num_songs', 'song_id', 'title', 'year']"
     ]
    }
   ],
   "source": [
    "song_df.columns"
   ]
  },
  {
   "cell_type": "code",
   "execution_count": 90,
   "id": "cb2dd110-8887-4e49-9726-41d8cfc5833e",
   "metadata": {
    "execution": {
     "iopub.execute_input": "2022-05-06T18:52:16.834176Z",
     "iopub.status.busy": "2022-05-06T18:52:16.833929Z",
     "iopub.status.idle": "2022-05-06T18:52:17.132409Z",
     "shell.execute_reply": "2022-05-06T18:52:17.131424Z",
     "shell.execute_reply.started": "2022-05-06T18:52:16.834150Z"
    },
    "tags": []
   },
   "outputs": [
    {
     "data": {
      "application/vnd.jupyter.widget-view+json": {
       "model_id": "843b11b32eea4657ac1c561fc5a439fb",
       "version_major": 2,
       "version_minor": 0
      },
      "text/plain": [
       "VBox()"
      ]
     },
     "metadata": {},
     "output_type": "display_data"
    },
    {
     "data": {
      "application/vnd.jupyter.widget-view+json": {
       "model_id": "",
       "version_major": 2,
       "version_minor": 0
      },
      "text/plain": [
       "FloatProgress(value=0.0, bar_style='info', description='Progress:', layout=Layout(height='25px', width='50%'),…"
      ]
     },
     "metadata": {},
     "output_type": "display_data"
    }
   ],
   "source": [
    "songplays_table = df.join(song_df, (df.song==song_df.title) & (df.artist==song_df.artist_name) & (df.length==song_df.duration))\\\n",
    "                         .select(monotonically_increasing_id().alias('id'), \n",
    "                                 df.ts.alias('start_time'), \n",
    "                                 df['userId'].alias('user_id'),\n",
    "                                 'level',\n",
    "                                 'song_id',\n",
    "                                 'artist_id',\n",
    "                                 df['sessionId'].alias('session_id'),\n",
    "                                 'location',\n",
    "                                 df.userAgent.alias('user_agent'))\\\n",
    "                                .where(df['page']=='NextSong')\n",
    "            "
   ]
  },
  {
   "cell_type": "code",
   "execution_count": 92,
   "id": "e2992ccb-d8d1-4f74-9fe3-23ad6997c95d",
   "metadata": {
    "execution": {
     "iopub.execute_input": "2022-05-06T18:53:05.211675Z",
     "iopub.status.busy": "2022-05-06T18:53:05.211351Z",
     "iopub.status.idle": "2022-05-06T18:54:52.282810Z",
     "shell.execute_reply": "2022-05-06T18:54:52.281661Z",
     "shell.execute_reply.started": "2022-05-06T18:53:05.211638Z"
    },
    "tags": []
   },
   "outputs": [
    {
     "data": {
      "application/vnd.jupyter.widget-view+json": {
       "model_id": "5599a25cd0174e17a3dfb365ff1c6d7f",
       "version_major": 2,
       "version_minor": 0
      },
      "text/plain": [
       "VBox()"
      ]
     },
     "metadata": {},
     "output_type": "display_data"
    },
    {
     "data": {
      "application/vnd.jupyter.widget-view+json": {
       "model_id": "",
       "version_major": 2,
       "version_minor": 0
      },
      "text/plain": [
       "FloatProgress(value=0.0, bar_style='info', description='Progress:', layout=Layout(height='25px', width='50%'),…"
      ]
     },
     "metadata": {},
     "output_type": "display_data"
    },
    {
     "name": "stdout",
     "output_type": "stream",
     "text": [
      "319"
     ]
    }
   ],
   "source": [
    "songplays_table.count()"
   ]
  },
  {
   "cell_type": "code",
   "execution_count": 93,
   "id": "709d5c25-12aa-40a4-bd60-e5f1b5d633e7",
   "metadata": {
    "execution": {
     "iopub.execute_input": "2022-05-06T18:55:54.094580Z",
     "iopub.status.busy": "2022-05-06T18:55:54.094335Z",
     "iopub.status.idle": "2022-05-06T18:58:25.647742Z",
     "shell.execute_reply": "2022-05-06T18:58:25.647059Z",
     "shell.execute_reply.started": "2022-05-06T18:55:54.094552Z"
    }
   },
   "outputs": [
    {
     "data": {
      "application/vnd.jupyter.widget-view+json": {
       "model_id": "f8608a57bb9e4b15b9d57123c8d5673b",
       "version_major": 2,
       "version_minor": 0
      },
      "text/plain": [
       "VBox()"
      ]
     },
     "metadata": {},
     "output_type": "display_data"
    },
    {
     "data": {
      "application/vnd.jupyter.widget-view+json": {
       "model_id": "",
       "version_major": 2,
       "version_minor": 0
      },
      "text/plain": [
       "FloatProgress(value=0.0, bar_style='info', description='Progress:', layout=Layout(height='25px', width='50%'),…"
      ]
     },
     "metadata": {},
     "output_type": "display_data"
    }
   ],
   "source": [
    "songplays_table.write.parquet(output_data + 'songplay_table')"
   ]
  },
  {
   "cell_type": "code",
   "execution_count": null,
   "id": "364f3ef1-d19f-4a9c-a439-b7f08acb27e5",
   "metadata": {},
   "outputs": [],
   "source": []
  }
 ],
 "metadata": {
  "kernelspec": {
   "display_name": "PySpark",
   "language": "",
   "name": "pysparkkernel"
  },
  "language_info": {
   "codemirror_mode": {
    "name": "python",
    "version": 2
   },
   "mimetype": "text/x-python",
   "name": "pyspark",
   "pygments_lexer": "python2"
  }
 },
 "nbformat": 4,
 "nbformat_minor": 5
}
