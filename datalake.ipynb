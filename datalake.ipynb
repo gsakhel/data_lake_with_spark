{
 "cells": [
  {
   "cell_type": "markdown",
   "id": "a9adeec1-d22e-4b2b-ba76-1f073b2963a6",
   "metadata": {},
   "source": [
    "# Setup"
   ]
  },
  {
   "cell_type": "code",
   "execution_count": 12,
   "id": "63a8b2cd-fa2a-46ec-baef-fffffaad75c0",
   "metadata": {
    "execution": {
     "iopub.execute_input": "2022-05-07T19:42:12.279181Z",
     "iopub.status.busy": "2022-05-07T19:42:12.278830Z",
     "iopub.status.idle": "2022-05-07T19:42:12.539827Z",
     "shell.execute_reply": "2022-05-07T19:42:12.538575Z",
     "shell.execute_reply.started": "2022-05-07T19:42:12.279151Z"
    }
   },
   "outputs": [
    {
     "data": {
      "application/vnd.jupyter.widget-view+json": {
       "model_id": "05246db1a0684a7cb5c4011ae0ef5214",
       "version_major": 2,
       "version_minor": 0
      },
      "text/plain": [
       "VBox()"
      ]
     },
     "metadata": {},
     "output_type": "display_data"
    },
    {
     "data": {
      "application/vnd.jupyter.widget-view+json": {
       "model_id": "",
       "version_major": 2,
       "version_minor": 0
      },
      "text/plain": [
       "FloatProgress(value=0.0, bar_style='info', description='Progress:', layout=Layout(height='25px', width='50%'),…"
      ]
     },
     "metadata": {},
     "output_type": "display_data"
    }
   ],
   "source": [
    "from pyspark.sql.types import StructType, StructField, FloatType, StringType, DoubleType, IntegerType"
   ]
  },
  {
   "cell_type": "code",
   "execution_count": 1,
   "id": "306fa931-d408-4ac4-9caa-95d330d459b0",
   "metadata": {
    "execution": {
     "iopub.execute_input": "2022-05-07T19:41:09.455709Z",
     "iopub.status.busy": "2022-05-07T19:41:09.455415Z",
     "iopub.status.idle": "2022-05-07T19:41:39.010214Z",
     "shell.execute_reply": "2022-05-07T19:41:39.008369Z",
     "shell.execute_reply.started": "2022-05-07T19:41:09.455672Z"
    },
    "tags": []
   },
   "outputs": [
    {
     "data": {
      "application/vnd.jupyter.widget-view+json": {
       "model_id": "da8c8650ea48419db3d516ce2a32096a",
       "version_major": 2,
       "version_minor": 0
      },
      "text/plain": [
       "VBox()"
      ]
     },
     "metadata": {},
     "output_type": "display_data"
    },
    {
     "name": "stdout",
     "output_type": "stream",
     "text": [
      "Starting Spark application\n"
     ]
    },
    {
     "data": {
      "text/html": [
       "<table>\n",
       "<tr><th>ID</th><th>YARN Application ID</th><th>Kind</th><th>State</th><th>Spark UI</th><th>Driver log</th><th>Current session?</th></tr><tr><td>0</td><td>application_1651952249926_0001</td><td>pyspark</td><td>idle</td><td><a target=\"_blank\" href=\"http://ip-172-31-26-130.us-west-2.compute.internal:20888/proxy/application_1651952249926_0001/\">Link</a></td><td><a target=\"_blank\" href=\"http://ip-172-31-27-134.us-west-2.compute.internal:8042/node/containerlogs/container_1651952249926_0001_01_000001/livy\">Link</a></td><td>✔</td></tr></table>"
      ],
      "text/plain": [
       "<IPython.core.display.HTML object>"
      ]
     },
     "metadata": {},
     "output_type": "display_data"
    },
    {
     "data": {
      "application/vnd.jupyter.widget-view+json": {
       "model_id": "",
       "version_major": 2,
       "version_minor": 0
      },
      "text/plain": [
       "FloatProgress(value=0.0, bar_style='info', description='Progress:', layout=Layout(height='25px', width='50%'),…"
      ]
     },
     "metadata": {},
     "output_type": "display_data"
    },
    {
     "name": "stdout",
     "output_type": "stream",
     "text": [
      "SparkSession available as 'spark'.\n"
     ]
    },
    {
     "data": {
      "application/vnd.jupyter.widget-view+json": {
       "model_id": "",
       "version_major": 2,
       "version_minor": 0
      },
      "text/plain": [
       "FloatProgress(value=0.0, bar_style='info', description='Progress:', layout=Layout(height='25px', width='50%'),…"
      ]
     },
     "metadata": {},
     "output_type": "display_data"
    }
   ],
   "source": [
    "input_data = 's3n://udacity-dend/'"
   ]
  },
  {
   "cell_type": "code",
   "execution_count": 2,
   "id": "9fcb8785-169b-45e8-a831-58c4cbd4a749",
   "metadata": {
    "execution": {
     "iopub.execute_input": "2022-05-07T19:41:39.012890Z",
     "iopub.status.busy": "2022-05-07T19:41:39.012599Z",
     "iopub.status.idle": "2022-05-07T19:41:39.346331Z",
     "shell.execute_reply": "2022-05-07T19:41:39.345356Z",
     "shell.execute_reply.started": "2022-05-07T19:41:39.012850Z"
    },
    "tags": []
   },
   "outputs": [
    {
     "data": {
      "application/vnd.jupyter.widget-view+json": {
       "model_id": "2f1cc05b0ff24c5f8cb7f8197eb0e6fb",
       "version_major": 2,
       "version_minor": 0
      },
      "text/plain": [
       "VBox()"
      ]
     },
     "metadata": {},
     "output_type": "display_data"
    },
    {
     "data": {
      "application/vnd.jupyter.widget-view+json": {
       "model_id": "",
       "version_major": 2,
       "version_minor": 0
      },
      "text/plain": [
       "FloatProgress(value=0.0, bar_style='info', description='Progress:', layout=Layout(height='25px', width='50%'),…"
      ]
     },
     "metadata": {},
     "output_type": "display_data"
    }
   ],
   "source": [
    "output_data = 's3n://udacity-demobucket-2/data_lake/'"
   ]
  },
  {
   "cell_type": "markdown",
   "id": "7382c093-9d9b-4474-b285-1b2b069d41da",
   "metadata": {},
   "source": [
    "# Process Song Data"
   ]
  },
  {
   "cell_type": "code",
   "execution_count": 3,
   "id": "8993616f-a7e2-4ede-9e7a-57ace666056c",
   "metadata": {
    "execution": {
     "iopub.execute_input": "2022-05-07T19:41:39.408461Z",
     "iopub.status.busy": "2022-05-07T19:41:39.408209Z",
     "iopub.status.idle": "2022-05-07T19:41:39.734527Z",
     "shell.execute_reply": "2022-05-07T19:41:39.732992Z",
     "shell.execute_reply.started": "2022-05-07T19:41:39.408433Z"
    },
    "tags": []
   },
   "outputs": [
    {
     "data": {
      "application/vnd.jupyter.widget-view+json": {
       "model_id": "5aa56d12fcd44604ada8e052ab593954",
       "version_major": 2,
       "version_minor": 0
      },
      "text/plain": [
       "VBox()"
      ]
     },
     "metadata": {},
     "output_type": "display_data"
    },
    {
     "data": {
      "application/vnd.jupyter.widget-view+json": {
       "model_id": "",
       "version_major": 2,
       "version_minor": 0
      },
      "text/plain": [
       "FloatProgress(value=0.0, bar_style='info', description='Progress:', layout=Layout(height='25px', width='50%'),…"
      ]
     },
     "metadata": {},
     "output_type": "display_data"
    }
   ],
   "source": [
    "song_data = input_data + 'song_data/*/*/*/*.json'"
   ]
  },
  {
   "cell_type": "code",
   "execution_count": 13,
   "id": "457ebe6a-b31a-436b-a41b-b4e8bd2e537e",
   "metadata": {
    "execution": {
     "iopub.execute_input": "2022-05-07T19:42:15.998405Z",
     "iopub.status.busy": "2022-05-07T19:42:15.998158Z",
     "iopub.status.idle": "2022-05-07T19:42:16.309301Z",
     "shell.execute_reply": "2022-05-07T19:42:16.308362Z",
     "shell.execute_reply.started": "2022-05-07T19:42:15.998377Z"
    },
    "tags": []
   },
   "outputs": [
    {
     "data": {
      "application/vnd.jupyter.widget-view+json": {
       "model_id": "335161c8af664e5e859e092c19fa521b",
       "version_major": 2,
       "version_minor": 0
      },
      "text/plain": [
       "VBox()"
      ]
     },
     "metadata": {},
     "output_type": "display_data"
    },
    {
     "data": {
      "application/vnd.jupyter.widget-view+json": {
       "model_id": "",
       "version_major": 2,
       "version_minor": 0
      },
      "text/plain": [
       "FloatProgress(value=0.0, bar_style='info', description='Progress:', layout=Layout(height='25px', width='50%'),…"
      ]
     },
     "metadata": {},
     "output_type": "display_data"
    }
   ],
   "source": [
    "song_schema = StructType([\n",
    "            StructField(\"artist_id\", StringType(), False), \n",
    "            StructField('artist_latitude', FloatType(), True),\n",
    "            StructField('artist_location', StringType(), True),\n",
    "            StructField('artist_longitude', FloatType(), True),\n",
    "            StructField('artist_name', StringType(), True),\n",
    "            StructField('duration', FloatType(), True),\n",
    "            StructField('num_songs', IntegerType(), True),\n",
    "            StructField('year', IntegerType(), True),\n",
    "            StructField('song_id', StringType(), False),\n",
    "            StructField('title', StringType(), True),\n",
    "\n",
    "        ])"
   ]
  },
  {
   "cell_type": "code",
   "execution_count": 14,
   "id": "7a31b049-b9f0-4391-87a1-9ec1d8d8f393",
   "metadata": {
    "execution": {
     "iopub.execute_input": "2022-05-07T19:42:17.146009Z",
     "iopub.status.busy": "2022-05-07T19:42:17.144523Z",
     "iopub.status.idle": "2022-05-07T19:43:23.561293Z",
     "shell.execute_reply": "2022-05-07T19:43:23.560055Z",
     "shell.execute_reply.started": "2022-05-07T19:42:17.145956Z"
    },
    "tags": []
   },
   "outputs": [
    {
     "data": {
      "application/vnd.jupyter.widget-view+json": {
       "model_id": "2dcfbf8d32924f8cabd7f5739ceab8c6",
       "version_major": 2,
       "version_minor": 0
      },
      "text/plain": [
       "VBox()"
      ]
     },
     "metadata": {},
     "output_type": "display_data"
    },
    {
     "data": {
      "application/vnd.jupyter.widget-view+json": {
       "model_id": "",
       "version_major": 2,
       "version_minor": 0
      },
      "text/plain": [
       "FloatProgress(value=0.0, bar_style='info', description='Progress:', layout=Layout(height='25px', width='50%'),…"
      ]
     },
     "metadata": {},
     "output_type": "display_data"
    }
   ],
   "source": [
    "df = spark.read.schema(song_schema).json(song_data)"
   ]
  },
  {
   "cell_type": "code",
   "execution_count": 15,
   "id": "8b9edc46-85ba-4807-916e-d5a4901cf5bd",
   "metadata": {
    "execution": {
     "iopub.execute_input": "2022-05-07T19:43:23.566152Z",
     "iopub.status.busy": "2022-05-07T19:43:23.565939Z",
     "iopub.status.idle": "2022-05-07T19:43:26.225601Z",
     "shell.execute_reply": "2022-05-07T19:43:26.224632Z",
     "shell.execute_reply.started": "2022-05-07T19:43:23.566126Z"
    },
    "tags": []
   },
   "outputs": [
    {
     "data": {
      "application/vnd.jupyter.widget-view+json": {
       "model_id": "4eda5f34d5db4552a49ff04d7ea62635",
       "version_major": 2,
       "version_minor": 0
      },
      "text/plain": [
       "VBox()"
      ]
     },
     "metadata": {},
     "output_type": "display_data"
    },
    {
     "data": {
      "application/vnd.jupyter.widget-view+json": {
       "model_id": "",
       "version_major": 2,
       "version_minor": 0
      },
      "text/plain": [
       "FloatProgress(value=0.0, bar_style='info', description='Progress:', layout=Layout(height='25px', width='50%'),…"
      ]
     },
     "metadata": {},
     "output_type": "display_data"
    },
    {
     "name": "stdout",
     "output_type": "stream",
     "text": [
      "[Row(artist_id='AR4T2IF1187B9ADBB7', artist_latitude=63.960269927978516, artist_location='<a href=\"http://billyidol.net\" onmousedown=\\'UntrustedLink.bootstrap($(this), \"fc44f8f60d13ab68c56b3c6709c6d670\", event)\\' target=\"_blank\" rel=\"nofollow\">http://billyidol.net</a>', artist_longitude=10.224419593811035, artist_name='Billy Idol', duration=233.22076416015625, num_songs=1, year=1983, song_id='SOVIYJY12AF72A4B00', title='The Dead Next Door (Digitally Remastered 99)')]"
     ]
    }
   ],
   "source": [
    "df.head(1)"
   ]
  },
  {
   "cell_type": "code",
   "execution_count": 16,
   "id": "b97998cd-fc99-42be-9985-a3d1e74dbf53",
   "metadata": {
    "execution": {
     "iopub.execute_input": "2022-05-07T19:43:26.230339Z",
     "iopub.status.busy": "2022-05-07T19:43:26.227332Z",
     "iopub.status.idle": "2022-05-07T19:44:29.272043Z",
     "shell.execute_reply": "2022-05-07T19:44:29.269620Z",
     "shell.execute_reply.started": "2022-05-07T19:43:26.230298Z"
    },
    "tags": []
   },
   "outputs": [
    {
     "data": {
      "application/vnd.jupyter.widget-view+json": {
       "model_id": "91225eba2ab04287915757f38549f08c",
       "version_major": 2,
       "version_minor": 0
      },
      "text/plain": [
       "VBox()"
      ]
     },
     "metadata": {},
     "output_type": "display_data"
    },
    {
     "data": {
      "application/vnd.jupyter.widget-view+json": {
       "model_id": "",
       "version_major": 2,
       "version_minor": 0
      },
      "text/plain": [
       "FloatProgress(value=0.0, bar_style='info', description='Progress:', layout=Layout(height='25px', width='50%'),…"
      ]
     },
     "metadata": {},
     "output_type": "display_data"
    },
    {
     "name": "stdout",
     "output_type": "stream",
     "text": [
      "14896"
     ]
    }
   ],
   "source": [
    "df.count()"
   ]
  },
  {
   "cell_type": "markdown",
   "id": "6180e358-19bb-4a4a-b179-d7367cbd6ad0",
   "metadata": {},
   "source": [
    "14896"
   ]
  },
  {
   "cell_type": "code",
   "execution_count": 17,
   "id": "5e5eecd8-7a9f-49be-9870-a37f0ad0f215",
   "metadata": {
    "execution": {
     "iopub.execute_input": "2022-05-07T19:44:29.277691Z",
     "iopub.status.busy": "2022-05-07T19:44:29.277095Z",
     "iopub.status.idle": "2022-05-07T19:44:29.609869Z",
     "shell.execute_reply": "2022-05-07T19:44:29.608794Z",
     "shell.execute_reply.started": "2022-05-07T19:44:29.277648Z"
    },
    "tags": []
   },
   "outputs": [
    {
     "data": {
      "application/vnd.jupyter.widget-view+json": {
       "model_id": "49c58f6ba63e436e94ab4e2828eb7dd3",
       "version_major": 2,
       "version_minor": 0
      },
      "text/plain": [
       "VBox()"
      ]
     },
     "metadata": {},
     "output_type": "display_data"
    },
    {
     "data": {
      "application/vnd.jupyter.widget-view+json": {
       "model_id": "",
       "version_major": 2,
       "version_minor": 0
      },
      "text/plain": [
       "FloatProgress(value=0.0, bar_style='info', description='Progress:', layout=Layout(height='25px', width='50%'),…"
      ]
     },
     "metadata": {},
     "output_type": "display_data"
    }
   ],
   "source": [
    "songs_table = df.select('song_id', 'title', 'artist_id', 'year', 'duration').dropDuplicates(['song_id'])"
   ]
  },
  {
   "cell_type": "code",
   "execution_count": 18,
   "id": "7fe8136f-3b23-4bf2-b9b5-232ddd21af37",
   "metadata": {
    "execution": {
     "iopub.execute_input": "2022-05-07T19:44:29.611937Z",
     "iopub.status.busy": "2022-05-07T19:44:29.611652Z",
     "iopub.status.idle": "2022-05-07T19:48:32.409613Z",
     "shell.execute_reply": "2022-05-07T19:48:32.408804Z",
     "shell.execute_reply.started": "2022-05-07T19:44:29.611889Z"
    },
    "tags": []
   },
   "outputs": [
    {
     "data": {
      "application/vnd.jupyter.widget-view+json": {
       "model_id": "f00427301074413296af235154e1b825",
       "version_major": 2,
       "version_minor": 0
      },
      "text/plain": [
       "VBox()"
      ]
     },
     "metadata": {},
     "output_type": "display_data"
    },
    {
     "data": {
      "application/vnd.jupyter.widget-view+json": {
       "model_id": "",
       "version_major": 2,
       "version_minor": 0
      },
      "text/plain": [
       "FloatProgress(value=0.0, bar_style='info', description='Progress:', layout=Layout(height='25px', width='50%'),…"
      ]
     },
     "metadata": {},
     "output_type": "display_data"
    }
   ],
   "source": [
    "songs_table.write.mode('overwrite') \\\n",
    "                 .partitionBy('year', 'artist_id') \\\n",
    "                 .parquet(output_data + 'song_table')\n",
    "#song_table.write.parquet(output_data + 'song_table')"
   ]
  },
  {
   "cell_type": "code",
   "execution_count": 19,
   "id": "3351dbea-d6b0-4c61-aafa-88257f760580",
   "metadata": {
    "execution": {
     "iopub.execute_input": "2022-05-07T19:48:32.417988Z",
     "iopub.status.busy": "2022-05-07T19:48:32.415602Z",
     "iopub.status.idle": "2022-05-07T19:49:32.968992Z",
     "shell.execute_reply": "2022-05-07T19:49:32.968059Z",
     "shell.execute_reply.started": "2022-05-07T19:48:32.417935Z"
    },
    "tags": []
   },
   "outputs": [
    {
     "data": {
      "application/vnd.jupyter.widget-view+json": {
       "model_id": "1954443ca2924913929b048ca37b7df0",
       "version_major": 2,
       "version_minor": 0
      },
      "text/plain": [
       "VBox()"
      ]
     },
     "metadata": {},
     "output_type": "display_data"
    },
    {
     "data": {
      "application/vnd.jupyter.widget-view+json": {
       "model_id": "",
       "version_major": 2,
       "version_minor": 0
      },
      "text/plain": [
       "FloatProgress(value=0.0, bar_style='info', description='Progress:', layout=Layout(height='25px', width='50%'),…"
      ]
     },
     "metadata": {},
     "output_type": "display_data"
    },
    {
     "name": "stdout",
     "output_type": "stream",
     "text": [
      "+------------------+--------------------+------------------+----+---------+\n",
      "|           song_id|               title|         artist_id|year| duration|\n",
      "+------------------+--------------------+------------------+----+---------+\n",
      "|SOAONPI12A6D4F8A49|        Sea Of Tears|AR9JET41187FB3DE77|   0|720.87463|\n",
      "|SOAQZXK12A6701D993| Hold It Now_ Hit It|ARLHO5Z1187FB4C861|1986|206.28853|\n",
      "|SOATBPS12A6D4F6C3C|Les Gendarmes S'e...|AR88DP71187B9A9A57|   0|197.40689|\n",
      "+------------------+--------------------+------------------+----+---------+\n",
      "only showing top 3 rows"
     ]
    }
   ],
   "source": [
    "songs_table.show(3)"
   ]
  },
  {
   "cell_type": "code",
   "execution_count": 20,
   "id": "4fcd6c17-988a-42da-b83a-ad00dde6ff92",
   "metadata": {
    "execution": {
     "iopub.execute_input": "2022-05-07T19:49:32.973163Z",
     "iopub.status.busy": "2022-05-07T19:49:32.972954Z",
     "iopub.status.idle": "2022-05-07T19:50:27.846182Z",
     "shell.execute_reply": "2022-05-07T19:50:27.845458Z",
     "shell.execute_reply.started": "2022-05-07T19:49:32.973137Z"
    },
    "tags": []
   },
   "outputs": [
    {
     "data": {
      "application/vnd.jupyter.widget-view+json": {
       "model_id": "3bf83112830c47f19f1eda8995be0694",
       "version_major": 2,
       "version_minor": 0
      },
      "text/plain": [
       "VBox()"
      ]
     },
     "metadata": {},
     "output_type": "display_data"
    },
    {
     "data": {
      "application/vnd.jupyter.widget-view+json": {
       "model_id": "",
       "version_major": 2,
       "version_minor": 0
      },
      "text/plain": [
       "FloatProgress(value=0.0, bar_style='info', description='Progress:', layout=Layout(height='25px', width='50%'),…"
      ]
     },
     "metadata": {},
     "output_type": "display_data"
    },
    {
     "name": "stdout",
     "output_type": "stream",
     "text": [
      "14896"
     ]
    }
   ],
   "source": [
    "songs_table.count()"
   ]
  },
  {
   "cell_type": "markdown",
   "id": "208af6e2-c535-413e-a20b-0d9e782f2f11",
   "metadata": {},
   "source": [
    "14896"
   ]
  },
  {
   "cell_type": "code",
   "execution_count": 21,
   "id": "0ebfd0bb-d5cf-41e9-ac76-27062181fe27",
   "metadata": {
    "execution": {
     "iopub.execute_input": "2022-05-07T19:50:27.852061Z",
     "iopub.status.busy": "2022-05-07T19:50:27.851845Z",
     "iopub.status.idle": "2022-05-07T19:50:28.125417Z",
     "shell.execute_reply": "2022-05-07T19:50:28.124617Z",
     "shell.execute_reply.started": "2022-05-07T19:50:27.852034Z"
    }
   },
   "outputs": [
    {
     "data": {
      "application/vnd.jupyter.widget-view+json": {
       "model_id": "61cd44a1c8c2498dbb11b1ee4335c5a7",
       "version_major": 2,
       "version_minor": 0
      },
      "text/plain": [
       "VBox()"
      ]
     },
     "metadata": {},
     "output_type": "display_data"
    },
    {
     "data": {
      "application/vnd.jupyter.widget-view+json": {
       "model_id": "",
       "version_major": 2,
       "version_minor": 0
      },
      "text/plain": [
       "FloatProgress(value=0.0, bar_style='info', description='Progress:', layout=Layout(height='25px', width='50%'),…"
      ]
     },
     "metadata": {},
     "output_type": "display_data"
    },
    {
     "name": "stdout",
     "output_type": "stream",
     "text": [
      "root\n",
      " |-- artist_id: string (nullable = true)\n",
      " |-- artist_latitude: float (nullable = true)\n",
      " |-- artist_location: string (nullable = true)\n",
      " |-- artist_longitude: float (nullable = true)\n",
      " |-- artist_name: string (nullable = true)\n",
      " |-- duration: float (nullable = true)\n",
      " |-- num_songs: integer (nullable = true)\n",
      " |-- year: integer (nullable = true)\n",
      " |-- song_id: string (nullable = true)\n",
      " |-- title: string (nullable = true)"
     ]
    }
   ],
   "source": [
    "df.printSchema()"
   ]
  },
  {
   "cell_type": "code",
   "execution_count": 22,
   "id": "8b3fdce4-be35-4912-b1d2-2c97954eb16b",
   "metadata": {
    "execution": {
     "iopub.execute_input": "2022-05-07T19:50:28.128107Z",
     "iopub.status.busy": "2022-05-07T19:50:28.127828Z",
     "iopub.status.idle": "2022-05-07T19:50:28.608939Z",
     "shell.execute_reply": "2022-05-07T19:50:28.608117Z",
     "shell.execute_reply.started": "2022-05-07T19:50:28.128068Z"
    },
    "tags": []
   },
   "outputs": [
    {
     "data": {
      "application/vnd.jupyter.widget-view+json": {
       "model_id": "f8b182fc8d6542bfb3946a3f31965bea",
       "version_major": 2,
       "version_minor": 0
      },
      "text/plain": [
       "VBox()"
      ]
     },
     "metadata": {},
     "output_type": "display_data"
    },
    {
     "data": {
      "application/vnd.jupyter.widget-view+json": {
       "model_id": "",
       "version_major": 2,
       "version_minor": 0
      },
      "text/plain": [
       "FloatProgress(value=0.0, bar_style='info', description='Progress:', layout=Layout(height='25px', width='50%'),…"
      ]
     },
     "metadata": {},
     "output_type": "display_data"
    }
   ],
   "source": [
    "artists_table = df.select('artist_id', 'artist_name', 'artist_location', 'artist_latitude', 'artist_longitude').dropDuplicates(['artist_id'])"
   ]
  },
  {
   "cell_type": "code",
   "execution_count": 23,
   "id": "68e4340d-18e8-40bd-81e0-4f7f62908653",
   "metadata": {
    "execution": {
     "iopub.execute_input": "2022-05-07T19:50:28.613699Z",
     "iopub.status.busy": "2022-05-07T19:50:28.609973Z",
     "iopub.status.idle": "2022-05-07T19:51:23.315575Z",
     "shell.execute_reply": "2022-05-07T19:51:23.314719Z",
     "shell.execute_reply.started": "2022-05-07T19:50:28.613646Z"
    },
    "tags": []
   },
   "outputs": [
    {
     "data": {
      "application/vnd.jupyter.widget-view+json": {
       "model_id": "1a2a54109894449fa747a3e6501bd92d",
       "version_major": 2,
       "version_minor": 0
      },
      "text/plain": [
       "VBox()"
      ]
     },
     "metadata": {},
     "output_type": "display_data"
    },
    {
     "data": {
      "application/vnd.jupyter.widget-view+json": {
       "model_id": "",
       "version_major": 2,
       "version_minor": 0
      },
      "text/plain": [
       "FloatProgress(value=0.0, bar_style='info', description='Progress:', layout=Layout(height='25px', width='50%'),…"
      ]
     },
     "metadata": {},
     "output_type": "display_data"
    }
   ],
   "source": [
    "artists_table.write.mode('overwrite') \\\n",
    "                    .parquet(output_data + 'artist_table')\n",
    "#artists_table.write.parquet(output_data + 'artist_table')"
   ]
  },
  {
   "cell_type": "code",
   "execution_count": 24,
   "id": "3f1f31ba-c3ab-4128-a8f5-e894c8061212",
   "metadata": {
    "execution": {
     "iopub.execute_input": "2022-05-07T19:51:23.317264Z",
     "iopub.status.busy": "2022-05-07T19:51:23.316830Z",
     "iopub.status.idle": "2022-05-07T19:52:15.541948Z",
     "shell.execute_reply": "2022-05-07T19:52:15.540427Z",
     "shell.execute_reply.started": "2022-05-07T19:51:23.317221Z"
    },
    "tags": []
   },
   "outputs": [
    {
     "data": {
      "application/vnd.jupyter.widget-view+json": {
       "model_id": "9c804b6602ff49daad84fca85f2099d0",
       "version_major": 2,
       "version_minor": 0
      },
      "text/plain": [
       "VBox()"
      ]
     },
     "metadata": {},
     "output_type": "display_data"
    },
    {
     "data": {
      "application/vnd.jupyter.widget-view+json": {
       "model_id": "",
       "version_major": 2,
       "version_minor": 0
      },
      "text/plain": [
       "FloatProgress(value=0.0, bar_style='info', description='Progress:', layout=Layout(height='25px', width='50%'),…"
      ]
     },
     "metadata": {},
     "output_type": "display_data"
    },
    {
     "name": "stdout",
     "output_type": "stream",
     "text": [
      "+------------------+-----------------+--------------------+---------------+----------------+\n",
      "|         artist_id|      artist_name|     artist_location|artist_latitude|artist_longitude|\n",
      "+------------------+-----------------+--------------------+---------------+----------------+\n",
      "|AR0G85S1187FB4D46D|    Hey Hey My My|                    |           null|            null|\n",
      "|AR13CXU1187B9AD30A|        The Clash|     London, England|       51.52328|        -0.21346|\n",
      "|AR1X3SU11C8A415261|          Vessels|Hanover Park/Scha...|       41.99112|       -88.15849|\n",
      "|AR23GZ01187B98BC19|Whatever It Takes|                    |           null|            null|\n",
      "+------------------+-----------------+--------------------+---------------+----------------+\n",
      "only showing top 4 rows"
     ]
    }
   ],
   "source": [
    "artists_table.show(4)"
   ]
  },
  {
   "cell_type": "code",
   "execution_count": 25,
   "id": "5c809d48-6ae4-413c-8c79-02d6331c5aa2",
   "metadata": {
    "execution": {
     "iopub.execute_input": "2022-05-07T19:52:15.543490Z",
     "iopub.status.busy": "2022-05-07T19:52:15.543174Z",
     "iopub.status.idle": "2022-05-07T19:53:03.907266Z",
     "shell.execute_reply": "2022-05-07T19:53:03.906352Z",
     "shell.execute_reply.started": "2022-05-07T19:52:15.543450Z"
    },
    "tags": []
   },
   "outputs": [
    {
     "data": {
      "application/vnd.jupyter.widget-view+json": {
       "model_id": "c46587222ab74e2585df88a0d1c1e4de",
       "version_major": 2,
       "version_minor": 0
      },
      "text/plain": [
       "VBox()"
      ]
     },
     "metadata": {},
     "output_type": "display_data"
    },
    {
     "data": {
      "application/vnd.jupyter.widget-view+json": {
       "model_id": "",
       "version_major": 2,
       "version_minor": 0
      },
      "text/plain": [
       "FloatProgress(value=0.0, bar_style='info', description='Progress:', layout=Layout(height='25px', width='50%'),…"
      ]
     },
     "metadata": {},
     "output_type": "display_data"
    },
    {
     "name": "stdout",
     "output_type": "stream",
     "text": [
      "9553"
     ]
    }
   ],
   "source": [
    "artists_table.count()"
   ]
  },
  {
   "cell_type": "markdown",
   "id": "4149b0e7-7755-416a-ba7a-93a2c6248148",
   "metadata": {},
   "source": [
    "10025"
   ]
  },
  {
   "cell_type": "markdown",
   "id": "bd1f0a87-9e01-43d8-9a0a-8a891da65ec6",
   "metadata": {},
   "source": [
    "# Process Log Data"
   ]
  },
  {
   "cell_type": "code",
   "execution_count": 48,
   "id": "156a3746-0a46-4e57-a6f3-12fc3327e50e",
   "metadata": {
    "execution": {
     "iopub.execute_input": "2022-05-07T19:54:07.564181Z",
     "iopub.status.busy": "2022-05-07T19:54:07.563893Z",
     "iopub.status.idle": "2022-05-07T19:54:07.821533Z",
     "shell.execute_reply": "2022-05-07T19:54:07.820590Z",
     "shell.execute_reply.started": "2022-05-07T19:54:07.564149Z"
    },
    "tags": []
   },
   "outputs": [
    {
     "data": {
      "application/vnd.jupyter.widget-view+json": {
       "model_id": "c9be395495e847c8bcab6df5c0a9b0ef",
       "version_major": 2,
       "version_minor": 0
      },
      "text/plain": [
       "VBox()"
      ]
     },
     "metadata": {},
     "output_type": "display_data"
    },
    {
     "data": {
      "application/vnd.jupyter.widget-view+json": {
       "model_id": "",
       "version_major": 2,
       "version_minor": 0
      },
      "text/plain": [
       "FloatProgress(value=0.0, bar_style='info', description='Progress:', layout=Layout(height='25px', width='50%'),…"
      ]
     },
     "metadata": {},
     "output_type": "display_data"
    }
   ],
   "source": [
    "log_data = input_data + 'log_data/*/*/*.json'"
   ]
  },
  {
   "cell_type": "code",
   "execution_count": 55,
   "id": "c79a1851-808a-4e72-bf55-39ecdd304c5b",
   "metadata": {
    "execution": {
     "iopub.execute_input": "2022-05-07T19:54:54.322948Z",
     "iopub.status.busy": "2022-05-07T19:54:54.322650Z",
     "iopub.status.idle": "2022-05-07T19:54:54.624836Z",
     "shell.execute_reply": "2022-05-07T19:54:54.618154Z",
     "shell.execute_reply.started": "2022-05-07T19:54:54.322918Z"
    },
    "tags": []
   },
   "outputs": [
    {
     "data": {
      "application/vnd.jupyter.widget-view+json": {
       "model_id": "ca57935c5f8e4ea19d655671be7a7c17",
       "version_major": 2,
       "version_minor": 0
      },
      "text/plain": [
       "VBox()"
      ]
     },
     "metadata": {},
     "output_type": "display_data"
    },
    {
     "data": {
      "application/vnd.jupyter.widget-view+json": {
       "model_id": "",
       "version_major": 2,
       "version_minor": 0
      },
      "text/plain": [
       "FloatProgress(value=0.0, bar_style='info', description='Progress:', layout=Layout(height='25px', width='50%'),…"
      ]
     },
     "metadata": {},
     "output_type": "display_data"
    }
   ],
   "source": [
    "log_schema = StructType([\n",
    "        StructField('artist', StringType(), True),\n",
    "        StructField('auth', StringType(), True),\n",
    "        StructField('firstName', StringType(), True),\n",
    "        StructField('gender', StringType(), True),\n",
    "        StructField('itemInSession', IntegerType(), True),\n",
    "        StructField('lastName', StringType(), True),\n",
    "        StructField('length', FloatType(), True),\n",
    "        StructField('level', StringType(), True),\n",
    "        StructField('location', StringType(), True),\n",
    "        StructField('method', StringType(), True),\n",
    "        StructField('page', StringType(), True),\n",
    "        StructField('registration', StringType(), True),\n",
    "        StructField('sessionId', IntegerType(), True),\n",
    "        StructField('song', StringType(), True),\n",
    "        StructField('status', StringType(), True),\n",
    "        StructField('ts', FloatType(), True),\n",
    "        StructField('userAgent', StringType(), True),\n",
    "        StructField('userId', StringType(), False)\n",
    "    ])"
   ]
  },
  {
   "cell_type": "code",
   "execution_count": 56,
   "id": "0797ec1b-ad8c-4630-9f5d-430af3ffd39e",
   "metadata": {
    "execution": {
     "iopub.execute_input": "2022-05-07T19:54:54.632553Z",
     "iopub.status.busy": "2022-05-07T19:54:54.632234Z",
     "iopub.status.idle": "2022-05-07T19:54:55.685213Z",
     "shell.execute_reply": "2022-05-07T19:54:55.684512Z",
     "shell.execute_reply.started": "2022-05-07T19:54:54.632514Z"
    },
    "tags": []
   },
   "outputs": [
    {
     "data": {
      "application/vnd.jupyter.widget-view+json": {
       "model_id": "2967dc334a584f97aac5612aebbd7c27",
       "version_major": 2,
       "version_minor": 0
      },
      "text/plain": [
       "VBox()"
      ]
     },
     "metadata": {},
     "output_type": "display_data"
    },
    {
     "data": {
      "application/vnd.jupyter.widget-view+json": {
       "model_id": "",
       "version_major": 2,
       "version_minor": 0
      },
      "text/plain": [
       "FloatProgress(value=0.0, bar_style='info', description='Progress:', layout=Layout(height='25px', width='50%'),…"
      ]
     },
     "metadata": {},
     "output_type": "display_data"
    }
   ],
   "source": [
    "df = spark.read.schema(log_schema).json(log_data)"
   ]
  },
  {
   "cell_type": "code",
   "execution_count": 57,
   "id": "ef8ebe96-df5d-47e3-a2ac-379bf5cbc508",
   "metadata": {
    "execution": {
     "iopub.execute_input": "2022-05-07T19:54:55.687136Z",
     "iopub.status.busy": "2022-05-07T19:54:55.686841Z",
     "iopub.status.idle": "2022-05-07T19:54:55.929314Z",
     "shell.execute_reply": "2022-05-07T19:54:55.928554Z",
     "shell.execute_reply.started": "2022-05-07T19:54:55.687099Z"
    },
    "tags": []
   },
   "outputs": [
    {
     "data": {
      "application/vnd.jupyter.widget-view+json": {
       "model_id": "410a7ce8fca442c1acff6f32ca234742",
       "version_major": 2,
       "version_minor": 0
      },
      "text/plain": [
       "VBox()"
      ]
     },
     "metadata": {},
     "output_type": "display_data"
    },
    {
     "data": {
      "application/vnd.jupyter.widget-view+json": {
       "model_id": "",
       "version_major": 2,
       "version_minor": 0
      },
      "text/plain": [
       "FloatProgress(value=0.0, bar_style='info', description='Progress:', layout=Layout(height='25px', width='50%'),…"
      ]
     },
     "metadata": {},
     "output_type": "display_data"
    },
    {
     "name": "stdout",
     "output_type": "stream",
     "text": [
      "root\n",
      " |-- artist: string (nullable = true)\n",
      " |-- auth: string (nullable = true)\n",
      " |-- firstName: string (nullable = true)\n",
      " |-- gender: string (nullable = true)\n",
      " |-- itemInSession: integer (nullable = true)\n",
      " |-- lastName: string (nullable = true)\n",
      " |-- length: float (nullable = true)\n",
      " |-- level: string (nullable = true)\n",
      " |-- location: string (nullable = true)\n",
      " |-- method: string (nullable = true)\n",
      " |-- page: string (nullable = true)\n",
      " |-- registration: string (nullable = true)\n",
      " |-- sessionId: integer (nullable = true)\n",
      " |-- song: string (nullable = true)\n",
      " |-- status: string (nullable = true)\n",
      " |-- ts: float (nullable = true)\n",
      " |-- userAgent: string (nullable = true)\n",
      " |-- userId: string (nullable = true)"
     ]
    }
   ],
   "source": [
    "df.printSchema()"
   ]
  },
  {
   "cell_type": "code",
   "execution_count": 58,
   "id": "90e34b16-cfff-428d-ac38-2206da6f262f",
   "metadata": {
    "execution": {
     "iopub.execute_input": "2022-05-07T19:54:55.931281Z",
     "iopub.status.busy": "2022-05-07T19:54:55.931001Z",
     "iopub.status.idle": "2022-05-07T19:54:56.227467Z",
     "shell.execute_reply": "2022-05-07T19:54:56.226757Z",
     "shell.execute_reply.started": "2022-05-07T19:54:55.931241Z"
    },
    "tags": []
   },
   "outputs": [
    {
     "data": {
      "application/vnd.jupyter.widget-view+json": {
       "model_id": "45afc24c0207406aae2c4ebd0119c438",
       "version_major": 2,
       "version_minor": 0
      },
      "text/plain": [
       "VBox()"
      ]
     },
     "metadata": {},
     "output_type": "display_data"
    },
    {
     "data": {
      "application/vnd.jupyter.widget-view+json": {
       "model_id": "",
       "version_major": 2,
       "version_minor": 0
      },
      "text/plain": [
       "FloatProgress(value=0.0, bar_style='info', description='Progress:', layout=Layout(height='25px', width='50%'),…"
      ]
     },
     "metadata": {},
     "output_type": "display_data"
    }
   ],
   "source": [
    "df = df.filter(df['page']=='NextSong')"
   ]
  },
  {
   "cell_type": "code",
   "execution_count": 59,
   "id": "21280655-23d5-45a1-9878-a7852899aedb",
   "metadata": {
    "execution": {
     "iopub.execute_input": "2022-05-07T19:54:56.229786Z",
     "iopub.status.busy": "2022-05-07T19:54:56.229574Z",
     "iopub.status.idle": "2022-05-07T19:54:56.545555Z",
     "shell.execute_reply": "2022-05-07T19:54:56.544763Z",
     "shell.execute_reply.started": "2022-05-07T19:54:56.229759Z"
    },
    "tags": []
   },
   "outputs": [
    {
     "data": {
      "application/vnd.jupyter.widget-view+json": {
       "model_id": "b27e854f6f994ad6977b581949841502",
       "version_major": 2,
       "version_minor": 0
      },
      "text/plain": [
       "VBox()"
      ]
     },
     "metadata": {},
     "output_type": "display_data"
    },
    {
     "data": {
      "application/vnd.jupyter.widget-view+json": {
       "model_id": "",
       "version_major": 2,
       "version_minor": 0
      },
      "text/plain": [
       "FloatProgress(value=0.0, bar_style='info', description='Progress:', layout=Layout(height='25px', width='50%'),…"
      ]
     },
     "metadata": {},
     "output_type": "display_data"
    }
   ],
   "source": [
    "users_table = df.select('userId', 'firstName', 'lastName', 'gender', 'level').dropDuplicates(['userId'])"
   ]
  },
  {
   "cell_type": "code",
   "execution_count": 60,
   "id": "f7301298-05f0-44f5-8314-3ce3f2e0fdb5",
   "metadata": {
    "execution": {
     "iopub.execute_input": "2022-05-07T19:54:58.368927Z",
     "iopub.status.busy": "2022-05-07T19:54:58.368659Z",
     "iopub.status.idle": "2022-05-07T19:54:59.382375Z",
     "shell.execute_reply": "2022-05-07T19:54:59.381527Z",
     "shell.execute_reply.started": "2022-05-07T19:54:58.368897Z"
    },
    "tags": []
   },
   "outputs": [
    {
     "data": {
      "application/vnd.jupyter.widget-view+json": {
       "model_id": "61f135ea525c4c648eb643faf14f1a75",
       "version_major": 2,
       "version_minor": 0
      },
      "text/plain": [
       "VBox()"
      ]
     },
     "metadata": {},
     "output_type": "display_data"
    },
    {
     "data": {
      "application/vnd.jupyter.widget-view+json": {
       "model_id": "",
       "version_major": 2,
       "version_minor": 0
      },
      "text/plain": [
       "FloatProgress(value=0.0, bar_style='info', description='Progress:', layout=Layout(height='25px', width='50%'),…"
      ]
     },
     "metadata": {},
     "output_type": "display_data"
    },
    {
     "name": "stdout",
     "output_type": "stream",
     "text": [
      "96"
     ]
    }
   ],
   "source": [
    "users_table.count()"
   ]
  },
  {
   "cell_type": "markdown",
   "id": "f2b688e8-79ac-4913-a858-dc0f12d532fb",
   "metadata": {},
   "source": []
  },
  {
   "cell_type": "code",
   "execution_count": 61,
   "id": "42cbbefa-bd7f-4108-be82-b3f281e09400",
   "metadata": {
    "execution": {
     "iopub.execute_input": "2022-05-07T19:55:50.118277Z",
     "iopub.status.busy": "2022-05-07T19:55:50.118021Z",
     "iopub.status.idle": "2022-05-07T19:55:50.421200Z",
     "shell.execute_reply": "2022-05-07T19:55:50.420420Z",
     "shell.execute_reply.started": "2022-05-07T19:55:50.118248Z"
    },
    "tags": []
   },
   "outputs": [
    {
     "data": {
      "application/vnd.jupyter.widget-view+json": {
       "model_id": "850711c04e4c4ec5bfc4e1d9ddf9f83a",
       "version_major": 2,
       "version_minor": 0
      },
      "text/plain": [
       "VBox()"
      ]
     },
     "metadata": {},
     "output_type": "display_data"
    },
    {
     "data": {
      "application/vnd.jupyter.widget-view+json": {
       "model_id": "",
       "version_major": 2,
       "version_minor": 0
      },
      "text/plain": [
       "FloatProgress(value=0.0, bar_style='info', description='Progress:', layout=Layout(height='25px', width='50%'),…"
      ]
     },
     "metadata": {},
     "output_type": "display_data"
    }
   ],
   "source": [
    "# Amount users in non dropped = "
   ]
  },
  {
   "cell_type": "code",
   "execution_count": 62,
   "id": "3af3e484-1ccc-41a1-add2-954a1f376210",
   "metadata": {
    "execution": {
     "iopub.execute_input": "2022-05-07T19:55:52.111579Z",
     "iopub.status.busy": "2022-05-07T19:55:52.111312Z",
     "iopub.status.idle": "2022-05-07T19:55:55.067931Z",
     "shell.execute_reply": "2022-05-07T19:55:55.048552Z",
     "shell.execute_reply.started": "2022-05-07T19:55:52.111543Z"
    },
    "tags": []
   },
   "outputs": [
    {
     "data": {
      "application/vnd.jupyter.widget-view+json": {
       "model_id": "1484c0add66448ab9ca52e04cbcd1ed0",
       "version_major": 2,
       "version_minor": 0
      },
      "text/plain": [
       "VBox()"
      ]
     },
     "metadata": {},
     "output_type": "display_data"
    },
    {
     "data": {
      "application/vnd.jupyter.widget-view+json": {
       "model_id": "",
       "version_major": 2,
       "version_minor": 0
      },
      "text/plain": [
       "FloatProgress(value=0.0, bar_style='info', description='Progress:', layout=Layout(height='25px', width='50%'),…"
      ]
     },
     "metadata": {},
     "output_type": "display_data"
    }
   ],
   "source": [
    "users_table.write.mode('overwrite') \\\n",
    "                 .parquet(output_data + 'users_table')"
   ]
  },
  {
   "cell_type": "code",
   "execution_count": 63,
   "id": "3dd19f21-dd00-4ca1-acfa-323e4f9bc0f0",
   "metadata": {
    "execution": {
     "iopub.execute_input": "2022-05-07T19:56:01.170621Z",
     "iopub.status.busy": "2022-05-07T19:56:01.170352Z",
     "iopub.status.idle": "2022-05-07T19:56:01.507348Z",
     "shell.execute_reply": "2022-05-07T19:56:01.471311Z",
     "shell.execute_reply.started": "2022-05-07T19:56:01.170589Z"
    },
    "tags": []
   },
   "outputs": [
    {
     "data": {
      "application/vnd.jupyter.widget-view+json": {
       "model_id": "23ebd007e73840bca215f45641d91439",
       "version_major": 2,
       "version_minor": 0
      },
      "text/plain": [
       "VBox()"
      ]
     },
     "metadata": {},
     "output_type": "display_data"
    },
    {
     "data": {
      "application/vnd.jupyter.widget-view+json": {
       "model_id": "",
       "version_major": 2,
       "version_minor": 0
      },
      "text/plain": [
       "FloatProgress(value=0.0, bar_style='info', description='Progress:', layout=Layout(height='25px', width='50%'),…"
      ]
     },
     "metadata": {},
     "output_type": "display_data"
    }
   ],
   "source": [
    "from pyspark.sql.functions import udf, col, monotonically_increasing_id\n",
    "from datetime import datetime\n",
    "import pyspark.sql.types as T\n",
    "from pyspark.sql.functions import hour, dayofmonth, weekofyear, month, year, dayofweek "
   ]
  },
  {
   "cell_type": "code",
   "execution_count": 64,
   "id": "7674dac3-7781-45a0-b723-adb149e0c036",
   "metadata": {
    "execution": {
     "iopub.execute_input": "2022-05-07T19:56:01.663997Z",
     "iopub.status.busy": "2022-05-07T19:56:01.663729Z",
     "iopub.status.idle": "2022-05-07T19:56:01.959258Z",
     "shell.execute_reply": "2022-05-07T19:56:01.955986Z",
     "shell.execute_reply.started": "2022-05-07T19:56:01.663967Z"
    },
    "tags": []
   },
   "outputs": [
    {
     "data": {
      "application/vnd.jupyter.widget-view+json": {
       "model_id": "273735aa13164c199ac47d2ccf035515",
       "version_major": 2,
       "version_minor": 0
      },
      "text/plain": [
       "VBox()"
      ]
     },
     "metadata": {},
     "output_type": "display_data"
    },
    {
     "data": {
      "application/vnd.jupyter.widget-view+json": {
       "model_id": "",
       "version_major": 2,
       "version_minor": 0
      },
      "text/plain": [
       "FloatProgress(value=0.0, bar_style='info', description='Progress:', layout=Layout(height='25px', width='50%'),…"
      ]
     },
     "metadata": {},
     "output_type": "display_data"
    }
   ],
   "source": [
    "get_timestamp = udf(lambda x: datetime.fromtimestamp(x/1000.0).timestamp())"
   ]
  },
  {
   "cell_type": "code",
   "execution_count": 65,
   "id": "5de3f417-8de2-4215-a6c5-729e5e9ab9e3",
   "metadata": {
    "execution": {
     "iopub.execute_input": "2022-05-07T19:56:02.048429Z",
     "iopub.status.busy": "2022-05-07T19:56:02.048159Z",
     "iopub.status.idle": "2022-05-07T19:56:02.328739Z",
     "shell.execute_reply": "2022-05-07T19:56:02.322106Z",
     "shell.execute_reply.started": "2022-05-07T19:56:02.048399Z"
    },
    "tags": []
   },
   "outputs": [
    {
     "data": {
      "application/vnd.jupyter.widget-view+json": {
       "model_id": "ab10145804624e66a3f9caad7684f252",
       "version_major": 2,
       "version_minor": 0
      },
      "text/plain": [
       "VBox()"
      ]
     },
     "metadata": {},
     "output_type": "display_data"
    },
    {
     "data": {
      "application/vnd.jupyter.widget-view+json": {
       "model_id": "",
       "version_major": 2,
       "version_minor": 0
      },
      "text/plain": [
       "FloatProgress(value=0.0, bar_style='info', description='Progress:', layout=Layout(height='25px', width='50%'),…"
      ]
     },
     "metadata": {},
     "output_type": "display_data"
    }
   ],
   "source": [
    "df = df.withColumn(\"timestamp\", get_timestamp(df.ts))"
   ]
  },
  {
   "cell_type": "code",
   "execution_count": 66,
   "id": "18cdec8f-421f-4e6c-9958-2ef943a6267e",
   "metadata": {
    "execution": {
     "iopub.execute_input": "2022-05-07T19:56:02.375164Z",
     "iopub.status.busy": "2022-05-07T19:56:02.374893Z",
     "iopub.status.idle": "2022-05-07T19:56:02.748167Z",
     "shell.execute_reply": "2022-05-07T19:56:02.746661Z",
     "shell.execute_reply.started": "2022-05-07T19:56:02.375135Z"
    },
    "tags": []
   },
   "outputs": [
    {
     "data": {
      "application/vnd.jupyter.widget-view+json": {
       "model_id": "69545473f2b6485d85ac1da29dac46c9",
       "version_major": 2,
       "version_minor": 0
      },
      "text/plain": [
       "VBox()"
      ]
     },
     "metadata": {},
     "output_type": "display_data"
    },
    {
     "data": {
      "application/vnd.jupyter.widget-view+json": {
       "model_id": "",
       "version_major": 2,
       "version_minor": 0
      },
      "text/plain": [
       "FloatProgress(value=0.0, bar_style='info', description='Progress:', layout=Layout(height='25px', width='50%'),…"
      ]
     },
     "metadata": {},
     "output_type": "display_data"
    }
   ],
   "source": [
    "get_datetime = udf(lambda x: datetime.fromtimestamp(x / 1000.0), T.TimestampType())"
   ]
  },
  {
   "cell_type": "code",
   "execution_count": 67,
   "id": "55fd1ad4-37c8-4fc7-bf7f-e1100de7dd65",
   "metadata": {
    "execution": {
     "iopub.execute_input": "2022-05-07T19:56:04.537385Z",
     "iopub.status.busy": "2022-05-07T19:56:04.537132Z",
     "iopub.status.idle": "2022-05-07T19:56:04.810410Z",
     "shell.execute_reply": "2022-05-07T19:56:04.809710Z",
     "shell.execute_reply.started": "2022-05-07T19:56:04.537357Z"
    },
    "tags": []
   },
   "outputs": [
    {
     "data": {
      "application/vnd.jupyter.widget-view+json": {
       "model_id": "9c5429b7823448978a73e5c9add286ac",
       "version_major": 2,
       "version_minor": 0
      },
      "text/plain": [
       "VBox()"
      ]
     },
     "metadata": {},
     "output_type": "display_data"
    },
    {
     "data": {
      "application/vnd.jupyter.widget-view+json": {
       "model_id": "",
       "version_major": 2,
       "version_minor": 0
      },
      "text/plain": [
       "FloatProgress(value=0.0, bar_style='info', description='Progress:', layout=Layout(height='25px', width='50%'),…"
      ]
     },
     "metadata": {},
     "output_type": "display_data"
    }
   ],
   "source": [
    "df = df.withColumn(\"datetime\", get_datetime(df.ts))"
   ]
  },
  {
   "cell_type": "code",
   "execution_count": 68,
   "id": "d10a40c1-2205-4765-afe5-6a7e32785548",
   "metadata": {
    "execution": {
     "iopub.execute_input": "2022-05-07T19:56:04.898992Z",
     "iopub.status.busy": "2022-05-07T19:56:04.898739Z",
     "iopub.status.idle": "2022-05-07T19:56:05.901612Z",
     "shell.execute_reply": "2022-05-07T19:56:05.900106Z",
     "shell.execute_reply.started": "2022-05-07T19:56:04.898965Z"
    },
    "tags": []
   },
   "outputs": [
    {
     "data": {
      "application/vnd.jupyter.widget-view+json": {
       "model_id": "b0d5116c8d454d23b395dfc0131817d0",
       "version_major": 2,
       "version_minor": 0
      },
      "text/plain": [
       "VBox()"
      ]
     },
     "metadata": {},
     "output_type": "display_data"
    },
    {
     "data": {
      "application/vnd.jupyter.widget-view+json": {
       "model_id": "",
       "version_major": 2,
       "version_minor": 0
      },
      "text/plain": [
       "FloatProgress(value=0.0, bar_style='info', description='Progress:', layout=Layout(height='25px', width='50%'),…"
      ]
     },
     "metadata": {},
     "output_type": "display_data"
    },
    {
     "name": "stdout",
     "output_type": "stream",
     "text": [
      "[Row(artist='Harmonia', auth='Logged In', firstName='Ryan', gender='M', itemInSession=0, lastName='Smith', length=655.7775268554688, level='free', location='San Jose-Sunnyvale-Santa Clara, CA', method='PUT', page='NextSong', registration='1.541016707796E12', sessionId=583, song='Sehr kosmisch', status='200', ts=1542241779712.0, userAgent='\"Mozilla/5.0 (X11; Linux x86_64) AppleWebKit/537.36 (KHTML, like Gecko) Ubuntu Chromium/36.0.1985.125 Chrome/36.0.1985.125 Safari/537.36\"', userId='26', timestamp='1.542241779712E9', datetime=datetime.datetime(2018, 11, 15, 0, 29, 39, 712000))]"
     ]
    }
   ],
   "source": [
    "df.head(1)"
   ]
  },
  {
   "cell_type": "code",
   "execution_count": 69,
   "id": "dd037e8c-1fc9-43a5-82d2-730ff6c738be",
   "metadata": {
    "execution": {
     "iopub.execute_input": "2022-05-07T19:56:05.903910Z",
     "iopub.status.busy": "2022-05-07T19:56:05.903410Z",
     "iopub.status.idle": "2022-05-07T19:56:06.313691Z",
     "shell.execute_reply": "2022-05-07T19:56:06.312752Z",
     "shell.execute_reply.started": "2022-05-07T19:56:05.903865Z"
    },
    "tags": []
   },
   "outputs": [
    {
     "data": {
      "application/vnd.jupyter.widget-view+json": {
       "model_id": "7babf3158abc4fd79fb1aa96f06198cc",
       "version_major": 2,
       "version_minor": 0
      },
      "text/plain": [
       "VBox()"
      ]
     },
     "metadata": {},
     "output_type": "display_data"
    },
    {
     "data": {
      "application/vnd.jupyter.widget-view+json": {
       "model_id": "",
       "version_major": 2,
       "version_minor": 0
      },
      "text/plain": [
       "FloatProgress(value=0.0, bar_style='info', description='Progress:', layout=Layout(height='25px', width='50%'),…"
      ]
     },
     "metadata": {},
     "output_type": "display_data"
    }
   ],
   "source": [
    "time_table = df.select(df.ts.alias('start_time'),\n",
    "                       hour('datetime').alias('hour'), \n",
    "                       dayofmonth('datetime').alias('day'),\n",
    "                       weekofyear('datetime').alias('week'),\n",
    "                       month('datetime').alias('month'),\n",
    "                       year('datetime').alias('year'),\n",
    "                       dayofweek('datetime').alias('weekday')\n",
    "                       ).dropDuplicates(['start_time'])\n",
    "             "
   ]
  },
  {
   "cell_type": "code",
   "execution_count": 70,
   "id": "9ad0ce7b-ef9d-42da-97cf-980fe8c41135",
   "metadata": {
    "execution": {
     "iopub.execute_input": "2022-05-07T19:56:08.140527Z",
     "iopub.status.busy": "2022-05-07T19:56:08.140244Z",
     "iopub.status.idle": "2022-05-07T19:56:09.472471Z",
     "shell.execute_reply": "2022-05-07T19:56:09.465092Z",
     "shell.execute_reply.started": "2022-05-07T19:56:08.140486Z"
    },
    "tags": []
   },
   "outputs": [
    {
     "data": {
      "application/vnd.jupyter.widget-view+json": {
       "model_id": "1d7fa50ba22b4333ad217b401aec6cce",
       "version_major": 2,
       "version_minor": 0
      },
      "text/plain": [
       "VBox()"
      ]
     },
     "metadata": {},
     "output_type": "display_data"
    },
    {
     "data": {
      "application/vnd.jupyter.widget-view+json": {
       "model_id": "",
       "version_major": 2,
       "version_minor": 0
      },
      "text/plain": [
       "FloatProgress(value=0.0, bar_style='info', description='Progress:', layout=Layout(height='25px', width='50%'),…"
      ]
     },
     "metadata": {},
     "output_type": "display_data"
    },
    {
     "name": "stdout",
     "output_type": "stream",
     "text": [
      "5540"
     ]
    }
   ],
   "source": [
    "time_table.count()"
   ]
  },
  {
   "cell_type": "markdown",
   "id": "38c9986a-01ad-4c31-abbd-fc7cd35ded82",
   "metadata": {},
   "source": [
    "6813"
   ]
  },
  {
   "cell_type": "code",
   "execution_count": 71,
   "id": "09c81182-71a8-433c-9164-0b685357c6b1",
   "metadata": {
    "execution": {
     "iopub.execute_input": "2022-05-07T19:56:18.337743Z",
     "iopub.status.busy": "2022-05-07T19:56:18.337493Z",
     "iopub.status.idle": "2022-05-07T19:56:24.110590Z",
     "shell.execute_reply": "2022-05-07T19:56:24.109091Z",
     "shell.execute_reply.started": "2022-05-07T19:56:18.337713Z"
    },
    "tags": []
   },
   "outputs": [
    {
     "data": {
      "application/vnd.jupyter.widget-view+json": {
       "model_id": "5341377cac1741a8b24ecc7b4bbf91ac",
       "version_major": 2,
       "version_minor": 0
      },
      "text/plain": [
       "VBox()"
      ]
     },
     "metadata": {},
     "output_type": "display_data"
    },
    {
     "data": {
      "application/vnd.jupyter.widget-view+json": {
       "model_id": "",
       "version_major": 2,
       "version_minor": 0
      },
      "text/plain": [
       "FloatProgress(value=0.0, bar_style='info', description='Progress:', layout=Layout(height='25px', width='50%'),…"
      ]
     },
     "metadata": {},
     "output_type": "display_data"
    }
   ],
   "source": [
    "time_table.write.mode('overwrite') \\\n",
    "                .partitionBy('year', 'month') \\\n",
    "                .parquet(output_data + 'time_table')\n",
    "#time_table.write.parquet(output_data + 'time_table')"
   ]
  },
  {
   "cell_type": "code",
   "execution_count": 72,
   "id": "7c78db3f-0750-4063-8173-f1c184e0520c",
   "metadata": {
    "execution": {
     "iopub.execute_input": "2022-05-07T19:56:38.577971Z",
     "iopub.status.busy": "2022-05-07T19:56:38.577715Z",
     "iopub.status.idle": "2022-05-07T19:57:24.719488Z",
     "shell.execute_reply": "2022-05-07T19:57:24.718402Z",
     "shell.execute_reply.started": "2022-05-07T19:56:38.577942Z"
    },
    "tags": []
   },
   "outputs": [
    {
     "data": {
      "application/vnd.jupyter.widget-view+json": {
       "model_id": "1136d3ac6e304cc49e939cfb07a7cf54",
       "version_major": 2,
       "version_minor": 0
      },
      "text/plain": [
       "VBox()"
      ]
     },
     "metadata": {},
     "output_type": "display_data"
    },
    {
     "data": {
      "application/vnd.jupyter.widget-view+json": {
       "model_id": "",
       "version_major": 2,
       "version_minor": 0
      },
      "text/plain": [
       "FloatProgress(value=0.0, bar_style='info', description='Progress:', layout=Layout(height='25px', width='50%'),…"
      ]
     },
     "metadata": {},
     "output_type": "display_data"
    }
   ],
   "source": [
    "#song_df = spark.read.parquet(output_data + 'song_table/*.parquet')\n",
    "song_df = spark.read.schema(song_schema).json(input_data + 'song_data/*/*/*/*.json')"
   ]
  },
  {
   "cell_type": "code",
   "execution_count": 73,
   "id": "dbf11306-cc51-4c78-805e-965fcbc58cf7",
   "metadata": {
    "execution": {
     "iopub.execute_input": "2022-05-07T19:57:24.721542Z",
     "iopub.status.busy": "2022-05-07T19:57:24.721222Z",
     "iopub.status.idle": "2022-05-07T19:57:25.827068Z",
     "shell.execute_reply": "2022-05-07T19:57:25.826199Z",
     "shell.execute_reply.started": "2022-05-07T19:57:24.721450Z"
    },
    "tags": []
   },
   "outputs": [
    {
     "data": {
      "application/vnd.jupyter.widget-view+json": {
       "model_id": "e9f2cea5ca7c4a8dbdce1a99bcfc72ab",
       "version_major": 2,
       "version_minor": 0
      },
      "text/plain": [
       "VBox()"
      ]
     },
     "metadata": {},
     "output_type": "display_data"
    },
    {
     "data": {
      "application/vnd.jupyter.widget-view+json": {
       "model_id": "",
       "version_major": 2,
       "version_minor": 0
      },
      "text/plain": [
       "FloatProgress(value=0.0, bar_style='info', description='Progress:', layout=Layout(height='25px', width='50%'),…"
      ]
     },
     "metadata": {},
     "output_type": "display_data"
    },
    {
     "name": "stdout",
     "output_type": "stream",
     "text": [
      "[Row(artist_id='AR4T2IF1187B9ADBB7', artist_latitude=63.960269927978516, artist_location='<a href=\"http://billyidol.net\" onmousedown=\\'UntrustedLink.bootstrap($(this), \"fc44f8f60d13ab68c56b3c6709c6d670\", event)\\' target=\"_blank\" rel=\"nofollow\">http://billyidol.net</a>', artist_longitude=10.224419593811035, artist_name='Billy Idol', duration=233.22076416015625, num_songs=1, year=1983, song_id='SOVIYJY12AF72A4B00', title='The Dead Next Door (Digitally Remastered 99)')]"
     ]
    }
   ],
   "source": [
    "song_df.head(1)"
   ]
  },
  {
   "cell_type": "code",
   "execution_count": 74,
   "id": "aa479751-8ed1-45d8-ac76-66c6dc4c9407",
   "metadata": {
    "execution": {
     "iopub.execute_input": "2022-05-07T19:57:25.829726Z",
     "iopub.status.busy": "2022-05-07T19:57:25.829361Z",
     "iopub.status.idle": "2022-05-07T19:57:26.510000Z",
     "shell.execute_reply": "2022-05-07T19:57:26.509085Z",
     "shell.execute_reply.started": "2022-05-07T19:57:25.829685Z"
    },
    "tags": []
   },
   "outputs": [
    {
     "data": {
      "application/vnd.jupyter.widget-view+json": {
       "model_id": "2bb56e7f40914790a47c71fb3b426bb2",
       "version_major": 2,
       "version_minor": 0
      },
      "text/plain": [
       "VBox()"
      ]
     },
     "metadata": {},
     "output_type": "display_data"
    },
    {
     "data": {
      "application/vnd.jupyter.widget-view+json": {
       "model_id": "",
       "version_major": 2,
       "version_minor": 0
      },
      "text/plain": [
       "FloatProgress(value=0.0, bar_style='info', description='Progress:', layout=Layout(height='25px', width='50%'),…"
      ]
     },
     "metadata": {},
     "output_type": "display_data"
    },
    {
     "name": "stdout",
     "output_type": "stream",
     "text": [
      "['artist_id', 'artist_latitude', 'artist_location', 'artist_longitude', 'artist_name', 'duration', 'num_songs', 'year', 'song_id', 'title']"
     ]
    }
   ],
   "source": [
    "song_df.columns"
   ]
  },
  {
   "cell_type": "code",
   "execution_count": 75,
   "id": "fef9f2b3-41bc-4dce-ba5f-b3285d86fdd4",
   "metadata": {
    "execution": {
     "iopub.execute_input": "2022-05-07T19:57:26.512177Z",
     "iopub.status.busy": "2022-05-07T19:57:26.511883Z",
     "iopub.status.idle": "2022-05-07T19:57:26.819992Z",
     "shell.execute_reply": "2022-05-07T19:57:26.819251Z",
     "shell.execute_reply.started": "2022-05-07T19:57:26.512136Z"
    },
    "tags": []
   },
   "outputs": [
    {
     "data": {
      "application/vnd.jupyter.widget-view+json": {
       "model_id": "91779704bf72448cb8bf086679df68e5",
       "version_major": 2,
       "version_minor": 0
      },
      "text/plain": [
       "VBox()"
      ]
     },
     "metadata": {},
     "output_type": "display_data"
    },
    {
     "data": {
      "application/vnd.jupyter.widget-view+json": {
       "model_id": "",
       "version_major": 2,
       "version_minor": 0
      },
      "text/plain": [
       "FloatProgress(value=0.0, bar_style='info', description='Progress:', layout=Layout(height='25px', width='50%'),…"
      ]
     },
     "metadata": {},
     "output_type": "display_data"
    },
    {
     "name": "stdout",
     "output_type": "stream",
     "text": [
      "['artist', 'auth', 'firstName', 'gender', 'itemInSession', 'lastName', 'length', 'level', 'location', 'method', 'page', 'registration', 'sessionId', 'song', 'status', 'ts', 'userAgent', 'userId', 'timestamp', 'datetime']"
     ]
    }
   ],
   "source": [
    "df.columns"
   ]
  },
  {
   "cell_type": "code",
   "execution_count": 76,
   "id": "cb2dd110-8887-4e49-9726-41d8cfc5833e",
   "metadata": {
    "execution": {
     "iopub.execute_input": "2022-05-07T19:57:26.821559Z",
     "iopub.status.busy": "2022-05-07T19:57:26.821143Z",
     "iopub.status.idle": "2022-05-07T19:57:27.528171Z",
     "shell.execute_reply": "2022-05-07T19:57:27.527349Z",
     "shell.execute_reply.started": "2022-05-07T19:57:26.821521Z"
    },
    "tags": []
   },
   "outputs": [
    {
     "data": {
      "application/vnd.jupyter.widget-view+json": {
       "model_id": "3fea76d2d69f4573bbf048747f23905b",
       "version_major": 2,
       "version_minor": 0
      },
      "text/plain": [
       "VBox()"
      ]
     },
     "metadata": {},
     "output_type": "display_data"
    },
    {
     "data": {
      "application/vnd.jupyter.widget-view+json": {
       "model_id": "",
       "version_major": 2,
       "version_minor": 0
      },
      "text/plain": [
       "FloatProgress(value=0.0, bar_style='info', description='Progress:', layout=Layout(height='25px', width='50%'),…"
      ]
     },
     "metadata": {},
     "output_type": "display_data"
    }
   ],
   "source": [
    "songplays_table = df.join(song_df, (df.song==song_df.title) & (df.artist==song_df.artist_name) & (df.length==song_df.duration))\\\n",
    "                         .select(monotonically_increasing_id().alias('id'), \n",
    "                                 df.timestamp.alias('start_time'), \n",
    "                                 df['userId'].alias('user_id'),\n",
    "                                 'level',\n",
    "                                 'song_id',\n",
    "                                 'artist_id',\n",
    "                                 df['sessionId'].alias('session_id'),\n",
    "                                 'location',\n",
    "                                 df.userAgent.alias('user_agent'))\\\n",
    "                                .where(df['page']=='NextSong').dropDuplicates()\n",
    "            "
   ]
  },
  {
   "cell_type": "code",
   "execution_count": 77,
   "id": "f0540b52-bee3-41a4-a7de-d180a23aa74f",
   "metadata": {
    "execution": {
     "iopub.execute_input": "2022-05-07T19:57:27.529834Z",
     "iopub.status.busy": "2022-05-07T19:57:27.529401Z",
     "iopub.status.idle": "2022-05-07T19:58:16.769217Z",
     "shell.execute_reply": "2022-05-07T19:58:16.768319Z",
     "shell.execute_reply.started": "2022-05-07T19:57:27.529802Z"
    },
    "tags": []
   },
   "outputs": [
    {
     "data": {
      "application/vnd.jupyter.widget-view+json": {
       "model_id": "5949de33eb8f4638b18c4ccef64f560c",
       "version_major": 2,
       "version_minor": 0
      },
      "text/plain": [
       "VBox()"
      ]
     },
     "metadata": {},
     "output_type": "display_data"
    },
    {
     "data": {
      "application/vnd.jupyter.widget-view+json": {
       "model_id": "",
       "version_major": 2,
       "version_minor": 0
      },
      "text/plain": [
       "FloatProgress(value=0.0, bar_style='info', description='Progress:', layout=Layout(height='25px', width='50%'),…"
      ]
     },
     "metadata": {},
     "output_type": "display_data"
    },
    {
     "name": "stdout",
     "output_type": "stream",
     "text": [
      "+-------------+----------------+-------+-----+------------------+------------------+----------+--------------------+--------------------+\n",
      "|           id|      start_time|user_id|level|           song_id|         artist_id|session_id|            location|          user_agent|\n",
      "+-------------+----------------+-------+-----+------------------+------------------+----------+--------------------+--------------------+\n",
      "|3496103378944|1.543217872896E9|     44| paid|SOSJVCA12A8C139501|AR7SPB81187B9A068F|       781|Waterloo-Cedar Fa...|Mozilla/5.0 (Maci...|\n",
      "| 137438953474| 1.54117996544E9|     10| free|SOHTKMO12AB01843B0|AR5EYTL1187B98EDA0|       182|Washington-Arling...|\"Mozilla/5.0 (Mac...|\n",
      "|2078764171266|1.542208487424E9|     25| paid|SOVXAXI12A8C1383D9|ARY65231187FB46283|       534|    Marinette, WI-MI|\"Mozilla/5.0 (Win...|\n",
      "|1992864825345|1.542774063104E9|     97| paid|SOMEFTJ12A6D4F8CAC|AR7S2271187FB38B1F|       797|Lansing-East Lans...|\"Mozilla/5.0 (X11...|\n",
      "|1340029796360|1.541803606016E9|     88| free|SOBONKR12A58A7A7E0|AR5E44Z1187B9A1D74|       325|Sacramento--Rosev...|\"Mozilla/5.0 (Mac...|\n",
      "|3513283248128|1.542176374784E9|     80| paid|SOACRBY12AB017C757|ARVGCRM11F50C496F4|       548|Portland-South Po...|\"Mozilla/5.0 (Mac...|\n",
      "| 962072674304|1.542616383488E9|     24| paid|SOSMTXQ12A6D4F721D|ARS927Z1187B9ACA29|       672|Lake Havasu City-...|\"Mozilla/5.0 (Win...|\n",
      "| 566935683072|1.542701187072E9|     15| paid|SOMCKUB12AB018BD24|ARL1MEI1187B9AD98B|       716|Chicago-Napervill...|\"Mozilla/5.0 (X11...|\n",
      "| 206158430213|1.543424704512E9|     80| paid|SOULTKQ12AB018A183|ARKQQZA12086C116FC|      1004|Portland-South Po...|\"Mozilla/5.0 (Mac...|\n",
      "+-------------+----------------+-------+-----+------------------+------------------+----------+--------------------+--------------------+\n",
      "only showing top 9 rows"
     ]
    }
   ],
   "source": [
    "songplays_table.show(9)"
   ]
  },
  {
   "cell_type": "code",
   "execution_count": 78,
   "id": "e2992ccb-d8d1-4f74-9fe3-23ad6997c95d",
   "metadata": {
    "execution": {
     "iopub.execute_input": "2022-05-07T19:58:16.770888Z",
     "iopub.status.busy": "2022-05-07T19:58:16.770516Z",
     "iopub.status.idle": "2022-05-07T19:59:05.176266Z",
     "shell.execute_reply": "2022-05-07T19:59:05.175463Z",
     "shell.execute_reply.started": "2022-05-07T19:58:16.770850Z"
    },
    "tags": []
   },
   "outputs": [
    {
     "data": {
      "application/vnd.jupyter.widget-view+json": {
       "model_id": "e7272e845396442b81642e0763d932ba",
       "version_major": 2,
       "version_minor": 0
      },
      "text/plain": [
       "VBox()"
      ]
     },
     "metadata": {},
     "output_type": "display_data"
    },
    {
     "data": {
      "application/vnd.jupyter.widget-view+json": {
       "model_id": "",
       "version_major": 2,
       "version_minor": 0
      },
      "text/plain": [
       "FloatProgress(value=0.0, bar_style='info', description='Progress:', layout=Layout(height='25px', width='50%'),…"
      ]
     },
     "metadata": {},
     "output_type": "display_data"
    },
    {
     "name": "stdout",
     "output_type": "stream",
     "text": [
      "319"
     ]
    }
   ],
   "source": [
    "songplays_table.count()"
   ]
  },
  {
   "cell_type": "markdown",
   "id": "a547bcea-08d8-4cf2-8c73-e311bf309412",
   "metadata": {},
   "source": [
    "319"
   ]
  },
  {
   "cell_type": "code",
   "execution_count": 79,
   "id": "709d5c25-12aa-40a4-bd60-e5f1b5d633e7",
   "metadata": {
    "execution": {
     "iopub.execute_input": "2022-05-07T19:59:05.179921Z",
     "iopub.status.busy": "2022-05-07T19:59:05.178661Z",
     "iopub.status.idle": "2022-05-07T19:59:57.583598Z",
     "shell.execute_reply": "2022-05-07T19:59:57.582884Z",
     "shell.execute_reply.started": "2022-05-07T19:59:05.179875Z"
    },
    "tags": []
   },
   "outputs": [
    {
     "data": {
      "application/vnd.jupyter.widget-view+json": {
       "model_id": "87c5193c18f54127b7182d5905219115",
       "version_major": 2,
       "version_minor": 0
      },
      "text/plain": [
       "VBox()"
      ]
     },
     "metadata": {},
     "output_type": "display_data"
    },
    {
     "data": {
      "application/vnd.jupyter.widget-view+json": {
       "model_id": "",
       "version_major": 2,
       "version_minor": 0
      },
      "text/plain": [
       "FloatProgress(value=0.0, bar_style='info', description='Progress:', layout=Layout(height='25px', width='50%'),…"
      ]
     },
     "metadata": {},
     "output_type": "display_data"
    }
   ],
   "source": [
    "songplays_table.withColumn('year', year('start_time')) \\\n",
    "               .withColumn('month', month('start_time')) \\\n",
    "               .write.mode('overwrite') \\\n",
    "               .partitionBy('year','month') \\\n",
    "               .parquet(output_data + 'songplay_table')\n",
    "#songplay_table.withColumn('year', year('start_time')) \\\n",
    "#.withColumn('month', month('start_time')) \\\n",
    "#.write.partitionBy('year','month') \\\n",
    "#.mode('overwrite') \\\n",
    "#.parquet(output_data + 'songplay_table')\n",
    "\n",
    "#songplays_table.write.parquet(output_data + 'songplay_table')"
   ]
  },
  {
   "cell_type": "code",
   "execution_count": null,
   "id": "364f3ef1-d19f-4a9c-a439-b7f08acb27e5",
   "metadata": {},
   "outputs": [],
   "source": []
  }
 ],
 "metadata": {
  "kernelspec": {
   "display_name": "PySpark",
   "language": "",
   "name": "pysparkkernel"
  },
  "language_info": {
   "codemirror_mode": {
    "name": "python",
    "version": 2
   },
   "mimetype": "text/x-python",
   "name": "pyspark",
   "pygments_lexer": "python2"
  }
 },
 "nbformat": 4,
 "nbformat_minor": 5
}
